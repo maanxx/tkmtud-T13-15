{
 "cells": [
  {
   "cell_type": "markdown",
   "metadata": {
    "id": "Cj3g7_Xjv0cQ"
   },
   "source": [
    "# Lab 02 - Bài tập"
   ]
  },
  {
   "cell_type": "markdown",
   "metadata": {},
   "source": [
    "## THÔNG TIN SINH VIÊN\n",
    "\n",
    "- Họ tên: Nguyễn Phan Minh Mẫn\n",
    "- MSV: 22679171\n",
    "\n",
    "\n",
    "Sinh viên ghi số bài làm được vào ô dưới đây:"
   ]
  },
  {
   "cell_type": "markdown",
   "metadata": {},
   "source": [
    "## KẾT QUẢ: .../20 bài\n",
    "\n",
    "---"
   ]
  },
  {
   "cell_type": "code",
   "execution_count": 31,
   "metadata": {},
   "outputs": [],
   "source": [
    "# Run this cell first to import the libraries we will use\n",
    "import pandas as pd\n",
    "import numpy as np\n",
    "import seaborn as sns\n",
    "import matplotlib.pyplot as plt\n",
    "from scipy import stats"
   ]
  },
  {
   "cell_type": "markdown",
   "metadata": {
    "id": "uHya_O8Nv9Bg"
   },
   "source": [
    "## PANDAS\n",
    "\n",
    "Bạn hãy tạo một DataFrame có tên `df_sales` chứa thông tin các sản phẩm:"
   ]
  },
  {
   "cell_type": "code",
   "execution_count": 32,
   "metadata": {},
   "outputs": [],
   "source": [
    "sales_data = {\n",
    "    'product_id': ['P001', 'P002', 'P003', 'P004', 'P005', 'P006', 'P007', 'P008'],\n",
    "    'product_name': ['Laptop', 'Mouse', 'Keyboard', 'Monitor', 'Tablet', 'Phone', 'Headphones', 'Webcam'],\n",
    "    'category': ['Electronics', 'Accessories', 'Accessories', 'Electronics', 'Electronics', 'Electronics', 'Accessories', 'Accessories'],\n",
    "    'price': [999, 25, 75, 299, 499, 699, 129, 89],\n",
    "    'units_sold': [15, 120, 85, 35, 28, 45, 67, 23],\n",
    "    'supplier': ['TechCorp', 'AccessCo', 'AccessCo', 'TechCorp', 'MobileTech', 'MobileTech', 'AudioTech', 'CameraCo']\n",
    "}\n",
    "\n",
    "df_sales = pd.DataFrame(sales_data)"
   ]
  },
  {
   "cell_type": "markdown",
   "metadata": {},
   "source": [
    "### 1. Hiểu dữ liệu\n",
    "\n",
    "a. Kích thước của dữ liệu?\n",
    "\n",
    "b. Tên các cột?\n",
    "\n",
    "c. Hiển thị 3 dòng đầu tiên và 3 dòng cuối cùng\n",
    "\n",
    "d. Thống kê mô tả các biến định lượng"
   ]
  },
  {
   "cell_type": "code",
   "execution_count": 33,
   "metadata": {},
   "outputs": [
    {
     "name": "stdout",
     "output_type": "stream",
     "text": [
      "Kich thuoc cua du lieu: \n",
      "\n",
      "Kich thuoc cua du lieu: \n",
      "<class 'pandas.core.frame.DataFrame'>\n",
      "RangeIndex: 8 entries, 0 to 7\n",
      "Data columns (total 6 columns):\n",
      " #   Column        Non-Null Count  Dtype \n",
      "---  ------        --------------  ----- \n",
      " 0   product_id    8 non-null      object\n",
      " 1   product_name  8 non-null      object\n",
      " 2   category      8 non-null      object\n",
      " 3   price         8 non-null      int64 \n",
      " 4   units_sold    8 non-null      int64 \n",
      " 5   supplier      8 non-null      object\n",
      "dtypes: int64(2), object(4)\n",
      "memory usage: 512.0+ bytes\n",
      "\n",
      "3 dong dau tien cua data: \n",
      "3 dong cuoi cua data\n",
      "Thong ke mo ta cac bien dinh luong\n"
     ]
    },
    {
     "data": {
      "text/html": [
       "<div>\n",
       "<style scoped>\n",
       "    .dataframe tbody tr th:only-of-type {\n",
       "        vertical-align: middle;\n",
       "    }\n",
       "\n",
       "    .dataframe tbody tr th {\n",
       "        vertical-align: top;\n",
       "    }\n",
       "\n",
       "    .dataframe thead th {\n",
       "        text-align: right;\n",
       "    }\n",
       "</style>\n",
       "<table border=\"1\" class=\"dataframe\">\n",
       "  <thead>\n",
       "    <tr style=\"text-align: right;\">\n",
       "      <th></th>\n",
       "      <th>price</th>\n",
       "      <th>units_sold</th>\n",
       "    </tr>\n",
       "  </thead>\n",
       "  <tbody>\n",
       "    <tr>\n",
       "      <th>count</th>\n",
       "      <td>8.00000</td>\n",
       "      <td>8.000000</td>\n",
       "    </tr>\n",
       "    <tr>\n",
       "      <th>mean</th>\n",
       "      <td>351.75000</td>\n",
       "      <td>52.250000</td>\n",
       "    </tr>\n",
       "    <tr>\n",
       "      <th>std</th>\n",
       "      <td>351.72869</td>\n",
       "      <td>35.979161</td>\n",
       "    </tr>\n",
       "    <tr>\n",
       "      <th>min</th>\n",
       "      <td>25.00000</td>\n",
       "      <td>15.000000</td>\n",
       "    </tr>\n",
       "    <tr>\n",
       "      <th>25%</th>\n",
       "      <td>85.50000</td>\n",
       "      <td>26.750000</td>\n",
       "    </tr>\n",
       "    <tr>\n",
       "      <th>50%</th>\n",
       "      <td>214.00000</td>\n",
       "      <td>40.000000</td>\n",
       "    </tr>\n",
       "    <tr>\n",
       "      <th>75%</th>\n",
       "      <td>549.00000</td>\n",
       "      <td>71.500000</td>\n",
       "    </tr>\n",
       "    <tr>\n",
       "      <th>max</th>\n",
       "      <td>999.00000</td>\n",
       "      <td>120.000000</td>\n",
       "    </tr>\n",
       "  </tbody>\n",
       "</table>\n",
       "</div>"
      ],
      "text/plain": [
       "           price  units_sold\n",
       "count    8.00000    8.000000\n",
       "mean   351.75000   52.250000\n",
       "std    351.72869   35.979161\n",
       "min     25.00000   15.000000\n",
       "25%     85.50000   26.750000\n",
       "50%    214.00000   40.000000\n",
       "75%    549.00000   71.500000\n",
       "max    999.00000  120.000000"
      ]
     },
     "execution_count": 33,
     "metadata": {},
     "output_type": "execute_result"
    }
   ],
   "source": [
    "# YOUR CODE HERE\n",
    "#a.\n",
    "print(\"Kich thuoc cua du lieu: \")\n",
    "df_sales.dtypes\n",
    "#b.\n",
    "print(\"\\nKich thuoc cua du lieu: \")\n",
    "df_sales.info()\n",
    "#c.\n",
    "print(\"\\n3 dong dau tien cua data: \")\n",
    "df_sales.head(5)\n",
    "print(\"3 dong cuoi cua data\")\n",
    "df_sales.tail(5)\n",
    "#d.\n",
    "print(\"Thong ke mo ta cac bien dinh luong\")\n",
    "df_sales.describe(include='int64')\n"
   ]
  },
  {
   "cell_type": "markdown",
   "metadata": {},
   "source": [
    "### 2. Lọc dữ liệu\n",
    "\n",
    "a. Lọc các cột sau: 'product_name', 'price', and 'units_sold'\n",
    "\n",
    "b. Lọc các sản phẩm có giá trên 100\n",
    "\n",
    "c. Tìm các sản phẩm điện tử ('Electronics') với số lượng bán trên 30\n",
    "\n",
    "d. Tìm những sản phẩm phụ kiện (`Accessories`) có giá từ 50 đến 100"
   ]
  },
  {
   "cell_type": "code",
   "execution_count": null,
   "metadata": {},
   "outputs": [
    {
     "name": "stdout",
     "output_type": "stream",
     "text": [
      "Mutiple column [product_name, price, units_sold]\n",
      "Loc cac san pham có gia tren 100:\n",
      "Cac san pham gia tren 100: 5\n"
     ]
    },
    {
     "data": {
      "text/html": [
       "<div>\n",
       "<style scoped>\n",
       "    .dataframe tbody tr th:only-of-type {\n",
       "        vertical-align: middle;\n",
       "    }\n",
       "\n",
       "    .dataframe tbody tr th {\n",
       "        vertical-align: top;\n",
       "    }\n",
       "\n",
       "    .dataframe thead th {\n",
       "        text-align: right;\n",
       "    }\n",
       "</style>\n",
       "<table border=\"1\" class=\"dataframe\">\n",
       "  <thead>\n",
       "    <tr style=\"text-align: right;\">\n",
       "      <th></th>\n",
       "      <th>product_name</th>\n",
       "      <th>price</th>\n",
       "      <th>units_sold</th>\n",
       "    </tr>\n",
       "  </thead>\n",
       "  <tbody>\n",
       "    <tr>\n",
       "      <th>0</th>\n",
       "      <td>Laptop</td>\n",
       "      <td>999</td>\n",
       "      <td>15</td>\n",
       "    </tr>\n",
       "    <tr>\n",
       "      <th>3</th>\n",
       "      <td>Monitor</td>\n",
       "      <td>299</td>\n",
       "      <td>35</td>\n",
       "    </tr>\n",
       "    <tr>\n",
       "      <th>4</th>\n",
       "      <td>Tablet</td>\n",
       "      <td>499</td>\n",
       "      <td>28</td>\n",
       "    </tr>\n",
       "    <tr>\n",
       "      <th>5</th>\n",
       "      <td>Phone</td>\n",
       "      <td>699</td>\n",
       "      <td>45</td>\n",
       "    </tr>\n",
       "    <tr>\n",
       "      <th>6</th>\n",
       "      <td>Headphones</td>\n",
       "      <td>129</td>\n",
       "      <td>67</td>\n",
       "    </tr>\n",
       "  </tbody>\n",
       "</table>\n",
       "</div>"
      ],
      "text/plain": [
       "  product_name  price  units_sold\n",
       "0       Laptop    999          15\n",
       "3      Monitor    299          35\n",
       "4       Tablet    499          28\n",
       "5        Phone    699          45\n",
       "6   Headphones    129          67"
      ]
     },
     "execution_count": 34,
     "metadata": {},
     "output_type": "execute_result"
    }
   ],
   "source": [
    "# YOUR CODE HERE\n",
    "#a/\n",
    "#Lay ra all inf\n",
    "df_sales.head()\n",
    "# Loc cot: product_name, price, units_sold\n",
    "print(\"Mutiple column [product_name, price, units_sold]\")\n",
    "df_sales[['product_name', 'price', 'units_sold']].head()\n",
    "#b/\n",
    "print(\"Loc cac san pham có gia tren 100:\")\n",
    "product_name = df_sales[df_sales['price'] > 100]\n",
    "print(f\"Cac san pham gia tren 100: {len(product_name)}\")\n",
    "product_name[['product_name', 'price', 'units_sold']]\n",
    "#c/\n",
    "\n"
   ]
  },
  {
   "cell_type": "markdown",
   "metadata": {},
   "source": [
    "### 3. Tạo cột mới\n",
    "\n",
    "Tao thêm các cột sau:\n",
    "\n",
    "a. Tạo cột doanh thu `revenue` = `price` * `units_sold`\n",
    "\n",
    "b. Tạo cột `price_category` dựa trên giá của sản phẩm:\n",
    "   - 'Low' nếu giá < 100\n",
    "   - 'Medium' nếu 1000 <= giá <= 500\n",
    "   - 'High' nếu giá > 500\n",
    "\n",
    "c. Tạo cộ `high_performer`:  True if units_sold > median(units_sold)"
   ]
  },
  {
   "cell_type": "code",
   "execution_count": 5,
   "metadata": {},
   "outputs": [],
   "source": [
    "# YOUR CODE HERE"
   ]
  },
  {
   "cell_type": "markdown",
   "metadata": {},
   "source": [
    "### 4. Xử lý dữ liệu thiếu\n",
    "\n",
    "Khởi tạo một DataFrame về dữ liệu khảo sát dưới đây và thực hiện các yêu cầu::\n",
    "\n",
    "a. Hiển thị số lượng giá trị thiếu trong mỗi cột và phần trăm giá trị thiếu\n",
    "\n",
    "b. Tạo một bản sao chứa dữ liệu đã loại bỏ các dòng có giá trị thiếu\n",
    "\n",
    "c. Tạo một bản sao chứa các giá trị định lượng bị thiếu đã được thay thế bằng giá trị trung bình của cột đó\n",
    "\n",
    "d. Tạo một bản sao chứa dữ liệu thiếu ở cột `city` được thay thế bằng giá trị phổ biến nhất (mode) của cột đó"
   ]
  },
  {
   "cell_type": "code",
   "execution_count": 6,
   "metadata": {},
   "outputs": [],
   "source": [
    "# Create dataset with missing values\n",
    "survey_data = {\n",
    "    'respondent_id': range(1, 11),\n",
    "    'age': [25, 30, None, 35, 28, None, 45, 32, 29, 38],\n",
    "    'income': [50000, None, 45000, 60000, None, 55000, 75000, None, 48000, 62000],\n",
    "    'satisfaction': [4, 5, 3, None, 4, 5, None, 3, 4, 5],\n",
    "    'city': ['NYC', 'LA', 'Chicago', None, 'NYC', 'LA', 'Chicago', 'NYC', None, 'LA']\n",
    "}\n",
    "\n",
    "df_survey = pd.DataFrame(survey_data)"
   ]
  },
  {
   "cell_type": "code",
   "execution_count": 7,
   "metadata": {},
   "outputs": [],
   "source": [
    "# YOUR CODE HERE"
   ]
  },
  {
   "cell_type": "markdown",
   "metadata": {},
   "source": [
    "### 5. Gom nhóm và tổng hợp\n",
    "\n",
    "Sử dụng DataFrame `df_sales` đã tạo ở trên và thực hiện các yêu cầu:\n",
    "\n",
    "a. Tính giá trung bình và tổng doanh thu theo từng loại sản phẩm (`category`)\n",
    "\n",
    "b. Đếm số sản phẩm theo từng nhà cung cấp (`supplier`)\n",
    "\n",
    "c. Tính min, max, mean và độ lệch chuẩn về giá theo từng loại sản phẩm (`category`)\n",
    "\n",
    "d. Tính miền giá trị (range) về số lượng sản phẩm đã bán (`units_sold) theo từng nhà cung cấp (`supplier`)"
   ]
  },
  {
   "cell_type": "code",
   "execution_count": 8,
   "metadata": {},
   "outputs": [],
   "source": [
    "# YOUR CODE HERE"
   ]
  },
  {
   "cell_type": "markdown",
   "metadata": {},
   "source": [
    "---\n",
    "\n",
    "## STATISTICAL ANALYSIS\n",
    "\n"
   ]
  },
  {
   "cell_type": "markdown",
   "metadata": {},
   "source": [
    "### 6. Xu hướng tập trung\n",
    "\n",
    "Cho 4 datasets sau, với mỗi dataset bạn hãy lựa chọn độ đo thích hợp để mô tả xu hướng tập trung của dữ liệu và giải thích lý do:"
   ]
  },
  {
   "cell_type": "code",
   "execution_count": 9,
   "metadata": {},
   "outputs": [
    {
     "name": "stdout",
     "output_type": "stream",
     "text": [
      "TASK: For each dataset, calculate appropriate measures of central tendency and explain your choice:\n",
      "Dataset 1 (Test scores): [85, 87, 90, 92, 95, 88, 91, 89, 86, 93]\n",
      "Dataset 2 (Salaries): [25000, 28000, 30000, 32000, 150000, 29000, 31000, 27000, 33000, 26000]\n",
      "Dataset 3 (Growth rates): [1.05, 0.98, 1.12, 0.95, 1.08, 1.03, 0.92, 1.15, 1.07, 0.99]\n",
      "Dataset 4 (Colors): ['Red', 'Blue', 'Blue', 'Green', 'Blue', 'Red', 'Yellow', 'Blue', 'Green', 'Blue']\n"
     ]
    }
   ],
   "source": [
    "# Create sample datasets for different scenarios\n",
    "dataset1 = [85, 87, 90, 92, 95, 88, 91, 89, 86, 93]  # Symmetric\n",
    "dataset2 = [25000, 28000, 30000, 32000, 150000, 29000, 31000, 27000, 33000, 26000]  # Right-skewed\n",
    "dataset3 = [1.05, 0.98, 1.12, 0.95, 1.08, 1.03, 0.92, 1.15, 1.07, 0.99]  # Growth factors\n",
    "dataset4 = ['Red', 'Blue', 'Blue', 'Green', 'Blue', 'Red', 'Yellow', 'Blue', 'Green', 'Blue']  # Categorical\n",
    "\n",
    "print(\"TASK: For each dataset, calculate appropriate measures of central tendency and explain your choice:\")\n",
    "print(\"Dataset 1 (Test scores):\", dataset1)\n",
    "print(\"Dataset 2 (Salaries):\", dataset2) \n",
    "print(\"Dataset 3 (Growth rates):\", dataset3)\n",
    "print(\"Dataset 4 (Colors):\", dataset4)"
   ]
  },
  {
   "cell_type": "markdown",
   "metadata": {},
   "source": [
    "**YOUR ANSWER HERE**"
   ]
  },
  {
   "cell_type": "code",
   "execution_count": 10,
   "metadata": {},
   "outputs": [],
   "source": [
    "# YOUR CODE HERE"
   ]
  },
  {
   "cell_type": "markdown",
   "metadata": {},
   "source": [
    "### 7. Độ đo phân tán\n",
    "\n",
    "Cho một bộ dữ liệu mẫu `sample_data`, bạn hãy thực hiện:\n",
    "\n",
    "a. Tính phương sai tổng thể (giả sử như sample_data là toàn bộ tổng thể)\n",
    "b. Tính phương sai mẫu (giả sử như sample_data là một mẫu từ tổng thể lớn hơn)\n",
    "c. Giải thích sự khác biệt giữa phương sai tổng thể và phương sai mẫu. Giải thích khái niệm bậc tự do (degrees of freedom) trong tính toán phương sai mẫu.\n",
    "d. Tính các đại lượng: miền giá trị (range), miền phân vị (IQR) và hệ số biến thiên (coefficient of variation - CV) . Bạn hãy trình bày ý nghĩa của mỗi đại lượng."
   ]
  },
  {
   "cell_type": "code",
   "execution_count": 11,
   "metadata": {},
   "outputs": [],
   "source": [
    "sample_data = [12, 15, 18, 21, 24, 27, 30]"
   ]
  },
  {
   "cell_type": "markdown",
   "metadata": {},
   "source": [
    "**YOUR ANSWER HERE**"
   ]
  },
  {
   "cell_type": "code",
   "execution_count": 12,
   "metadata": {},
   "outputs": [],
   "source": [
    "# YOUR CODE HERE"
   ]
  },
  {
   "cell_type": "markdown",
   "metadata": {},
   "source": [
    "### 8. Thống kê\n",
    "\n",
    "Chạy câu lệnh bên dưới để sinh dữ liệu `exam_scores` gồm 50 điểm thi của sinh viên trong một kỳ thi. Thực hiện các yêu cầu:\n",
    "\n",
    "a. Tính các đại lượng thống kê cơ bản của mỗi môn học\n",
    "b. Với mỗi môn học, xác định độ đo phù hợp để mô tả xu hướng tập trung và độ đo phân tán của điểm thi. Giải thích lý do.\n",
    "c. Tạo một bảng thống kê tóm tắt (summary table) cho mỗi môn học, bao gồm các đại lượng thống kê đã tính ở trên."
   ]
  },
  {
   "cell_type": "code",
   "execution_count": 13,
   "metadata": {},
   "outputs": [],
   "source": [
    "# Load a real dataset for comprehensive analysis\n",
    "exam_scores = pd.DataFrame({\n",
    "    'student_id': range(1, 51),\n",
    "    'math_score': np.random.normal(75, 12, 50).astype(int),\n",
    "    'english_score': np.random.normal(80, 10, 50).astype(int),\n",
    "    'science_score': np.random.normal(78, 15, 50).astype(int),\n",
    "    'total_score': lambda x: x.math_score + x.english_score + x.science_score\n",
    "})"
   ]
  },
  {
   "cell_type": "code",
   "execution_count": 14,
   "metadata": {},
   "outputs": [],
   "source": [
    "# YOUR CODE HERE"
   ]
  },
  {
   "cell_type": "markdown",
   "metadata": {},
   "source": [
    "---\n",
    "\n",
    "## SEABORN"
   ]
  },
  {
   "cell_type": "markdown",
   "metadata": {},
   "source": [
    "### 9. `tips` dataset\n",
    "\n",
    "Sử dụng dataset `tips` từ seaborn, bạn hãy thực hiện:\n",
    "\n",
    "a. Khám phá cấu trúc của dataset và xử lý giá trị thiếu (nếu có)\n",
    "\n",
    "b. Tính các đại lượng thống kê cơ bản cho tất cả các biến\n",
    "\n",
    "c. So sánh tiền tip trung bình giữa các nhóm khác nhau theo ngày, thời gian (day, time)\n",
    "\n",
    "d. Phân tích mối quan hệ giữa tổng hóa đơn (total_bill) và tiền tip (tip)\n",
    "\n",
    "e. Vẽ histogram của tiền tip\n",
    "\n",
    "f. Vẽ box plot để so sánh tiền tip giữa các ngày trong tuần"
   ]
  },
  {
   "cell_type": "code",
   "execution_count": 15,
   "metadata": {},
   "outputs": [],
   "source": [
    "# YOUR CODE HERE"
   ]
  },
  {
   "cell_type": "markdown",
   "metadata": {},
   "source": [
    "### 10. A dataset of Seaborn\n",
    "\n",
    "Chọn một dataset bất kỳ từ thư viện Seaborn (ngoài `tips` đã sử dụng ở trên) và thực hiện các bước sau:\n",
    "\n",
    "a. Tìm hiểu thông tin về dataset đã chọn\n",
    "\n",
    "b. Sử dụng kiến thức đã học để phân tích và trình bày các kết quả mà bạn khám phá được từ bộ dữ liệu trên"
   ]
  },
  {
   "cell_type": "code",
   "execution_count": 16,
   "metadata": {},
   "outputs": [],
   "source": [
    "# YOUR CODE HERE"
   ]
  },
  {
   "cell_type": "markdown",
   "metadata": {},
   "source": [
    "\n",
    "---\n",
    "\n",
    "## CHANGELOG\n",
    "\n",
    "- 20250831: new version\n",
    "- ...\n",
    "\n",
    "---"
   ]
  }
 ],
 "metadata": {
  "colab": {
   "authorship_tag": "ABX9TyOelhBBO7DINQ7b3uUiVhbi",
   "provenance": []
  },
  "kernelspec": {
   "display_name": "base",
   "language": "python",
   "name": "python3"
  },
  "language_info": {
   "codemirror_mode": {
    "name": "ipython",
    "version": 3
   },
   "file_extension": ".py",
   "mimetype": "text/x-python",
   "name": "python",
   "nbconvert_exporter": "python",
   "pygments_lexer": "ipython3",
   "version": "3.8.5"
  }
 },
 "nbformat": 4,
 "nbformat_minor": 0
}
