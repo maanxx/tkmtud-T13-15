{
 "cells": [
  {
   "cell_type": "markdown",
   "id": "06ab5e05",
   "metadata": {},
   "source": [
    "# Xử lý và tóm tắt dữ liệu \n",
    "\n",
    "Để có thể hiểu được dữ liệu, trước hết chúng ta cần biết cách đọc và xử lý dữ liệu trước. Sau đó chúng ta có thể tìm hiểu những đặc điểm cơ bản của dữ liệu thông qua các số liệu thống kê và các biểu đồ trực quan. Trong tài liệu này, chúng ta sẽ sử dụng hai thư viện phổ biến trong Python là Pandas và Seaborn để thực hiện các nhiệm vụ này.\n",
    "\n",
    "Tà liệu này sẽ nói về những điểm sau:\n",
    "\n",
    "- Pandas cơ bản\n",
    "- Xử lý dữ liệu\n",
    "- Tóm tắt dữ liệu và trực quan hóa\n"
   ]
  },
  {
   "cell_type": "markdown",
   "id": "a8735f9a",
   "metadata": {},
   "source": [
    "---\n",
    "\n",
    "## THAM KHẢO\n",
    "**Part 1: Pandas Fundamentals with Synthetic Data (50 minutes)**\n",
    "\n",
    "-   DataFrame and Series creation\n",
    "-   Basic data inspection methods (.head(), .info(), .describe())\n",
    "-   Data selection and filtering\n",
    "-   Working with synthetic datasets for consistency\n",
    "\n",
    "**Part 2: Data Manipulation (50 minutes)**\n",
    "\n",
    "-   Handling missing values (drop/fill basic approaches)\n",
    "-   Grouping and aggregation\n",
    "-   **Merging and joining DataFrames** (leveraging SQL experience)\n",
    "-   Creating new variables\n",
    "\n",
    "**Part 3: Summary Statistics and Seaborn Introduction (50 minutes)**\n",
    "\n",
    "-   Descriptive statistics with pandas\n",
    "-   **Introduction to Seaborn** with built-in datasets\n",
    "-   Statistical plots: histograms, boxplots, scatter plots\n",
    "-   Correlation analysis and visualization"
   ]
  },
  {
   "cell_type": "markdown",
   "id": "a201faf0",
   "metadata": {},
   "source": [
    "--- \n",
    "\n",
    "## 1. PANDAS\n",
    "\n",
    "`Pandas` là một thư viện cơ bản dùng để phân tích dữ liệu. `Pandas` cho phép người dùng đọc, ghi dữ liệu từ file và cung cấp những chức năng để việc phân tích dữ liệu được dễ dàng.\n",
    "\n",
    "Bạn có thể xem cheatshet (bảng tóm tắt) các hàm của Pandas ở đây [Pandas-cheatsheet](https://pandas.pydata.org/Pandas_Cheat_Sheet.pdf).\n",
    "\n",
    "Trước khi sử dụng chúng ta cần phải tải thư viện `Pandas` và `Numpy`"
   ]
  },
  {
   "cell_type": "code",
   "execution_count": 4,
   "id": "f2d9e324",
   "metadata": {},
   "outputs": [],
   "source": [
    "import pandas as pd\n",
    "import numpy as np"
   ]
  },
  {
   "cell_type": "markdown",
   "id": "979e9cbf",
   "metadata": {},
   "source": [
    "### 1.1 Series và DataFrame\n",
    "\n",
    "Có hai cấu trúc dữ liệu tronng Pandas đó là: `Series` and `DataFrame`.\n",
    "\n",
    "**`Series`** giống như list trong Python, là cấu trúc mảng một chiều dùng để chứa dữ liệu. `Series` sử dụng nhãn (label) hoặc chỉ mục (index) để truy cập các phần tử."
   ]
  },
  {
   "cell_type": "code",
   "execution_count": 5,
   "id": "88ccd77a",
   "metadata": {},
   "outputs": [
    {
     "name": "stdout",
     "output_type": "stream",
     "text": [
      "0    34\n",
      "1    23\n",
      "2    -5\n",
      "3     0\n",
      "dtype: int64\n"
     ]
    }
   ],
   "source": [
    "x = pd.Series([34, 23, -5, 0])\n",
    "print(x)"
   ]
  },
  {
   "cell_type": "markdown",
   "id": "a5ae753f",
   "metadata": {},
   "source": [
    "**`DataFrame`** giống như một bảng trong Excel với các hàng và các cột.\n",
    "\n",
    "Mộ số cách tạo DataFrame:"
   ]
  },
  {
   "cell_type": "code",
   "execution_count": 6,
   "id": "38978605",
   "metadata": {},
   "outputs": [
    {
     "data": {
      "text/html": [
       "<div>\n",
       "<style scoped>\n",
       "    .dataframe tbody tr th:only-of-type {\n",
       "        vertical-align: middle;\n",
       "    }\n",
       "\n",
       "    .dataframe tbody tr th {\n",
       "        vertical-align: top;\n",
       "    }\n",
       "\n",
       "    .dataframe thead th {\n",
       "        text-align: right;\n",
       "    }\n",
       "</style>\n",
       "<table border=\"1\" class=\"dataframe\">\n",
       "  <thead>\n",
       "    <tr style=\"text-align: right;\">\n",
       "      <th></th>\n",
       "      <th>name</th>\n",
       "      <th>state</th>\n",
       "      <th>birthyear</th>\n",
       "    </tr>\n",
       "  </thead>\n",
       "  <tbody>\n",
       "    <tr>\n",
       "      <th>0</th>\n",
       "      <td>Mary</td>\n",
       "      <td>VIC</td>\n",
       "      <td>1980</td>\n",
       "    </tr>\n",
       "    <tr>\n",
       "      <th>1</th>\n",
       "      <td>David</td>\n",
       "      <td>NSW</td>\n",
       "      <td>1992</td>\n",
       "    </tr>\n",
       "    <tr>\n",
       "      <th>2</th>\n",
       "      <td>Jack</td>\n",
       "      <td>VIC</td>\n",
       "      <td>2000</td>\n",
       "    </tr>\n",
       "    <tr>\n",
       "      <th>3</th>\n",
       "      <td>John</td>\n",
       "      <td>SA</td>\n",
       "      <td>1980</td>\n",
       "    </tr>\n",
       "    <tr>\n",
       "      <th>4</th>\n",
       "      <td>Robin</td>\n",
       "      <td>QLD</td>\n",
       "      <td>1995</td>\n",
       "    </tr>\n",
       "  </tbody>\n",
       "</table>\n",
       "</div>"
      ],
      "text/plain": [
       "    name state  birthyear\n",
       "0   Mary   VIC       1980\n",
       "1  David   NSW       1992\n",
       "2   Jack   VIC       2000\n",
       "3   John    SA       1980\n",
       "4  Robin   QLD       1995"
      ]
     },
     "execution_count": 6,
     "metadata": {},
     "output_type": "execute_result"
    }
   ],
   "source": [
    "# Create a DataFrame from a dictionary\n",
    "data = {'name': ['Mary', 'David', 'Jack', 'John', 'Robin'],\n",
    "        'state': ['VIC', 'NSW', 'VIC', 'SA', 'QLD'],\n",
    "        'birthyear': [1980, 1992, 2000, 1980, 1995]}\n",
    "df = pd.DataFrame(data)\n",
    "df"
   ]
  },
  {
   "cell_type": "code",
   "execution_count": 7,
   "id": "797dc588",
   "metadata": {},
   "outputs": [
    {
     "data": {
      "text/html": [
       "<div>\n",
       "<style scoped>\n",
       "    .dataframe tbody tr th:only-of-type {\n",
       "        vertical-align: middle;\n",
       "    }\n",
       "\n",
       "    .dataframe tbody tr th {\n",
       "        vertical-align: top;\n",
       "    }\n",
       "\n",
       "    .dataframe thead th {\n",
       "        text-align: right;\n",
       "    }\n",
       "</style>\n",
       "<table border=\"1\" class=\"dataframe\">\n",
       "  <thead>\n",
       "    <tr style=\"text-align: right;\">\n",
       "      <th></th>\n",
       "      <th>name</th>\n",
       "      <th>state</th>\n",
       "      <th>birthyear</th>\n",
       "    </tr>\n",
       "  </thead>\n",
       "  <tbody>\n",
       "    <tr>\n",
       "      <th>0</th>\n",
       "      <td>Mary</td>\n",
       "      <td>VIC</td>\n",
       "      <td>1980</td>\n",
       "    </tr>\n",
       "    <tr>\n",
       "      <th>1</th>\n",
       "      <td>David</td>\n",
       "      <td>NSW</td>\n",
       "      <td>1992</td>\n",
       "    </tr>\n",
       "  </tbody>\n",
       "</table>\n",
       "</div>"
      ],
      "text/plain": [
       "    name state  birthyear\n",
       "0   Mary   VIC       1980\n",
       "1  David   NSW       1992"
      ]
     },
     "execution_count": 7,
     "metadata": {},
     "output_type": "execute_result"
    }
   ],
   "source": [
    "# Create an empty DataFrame and add rows\n",
    "df = pd.DataFrame(columns=['name', 'state', 'birthyear'])\n",
    "df.loc[len(df)] = ['Mary', 'VIC', 1980]\n",
    "df.loc[len(df)] = ['David', 'NSW', 1992]\n",
    "\n",
    "df"
   ]
  },
  {
   "cell_type": "markdown",
   "id": "02388863",
   "metadata": {},
   "source": [
    "### 1.2 Tạo DataFrame để lưu dữ liệu\n",
    "\n",
    "Trong phần này ta sẽ tạo ngẫu nhiên một bộ dữ liệu về thông tin sinh viên và lưu vào một đối tượng DataFrame."
   ]
  },
  {
   "cell_type": "code",
   "execution_count": 8,
   "id": "7dcc6164",
   "metadata": {},
   "outputs": [
    {
     "name": "stdout",
     "output_type": "stream",
     "text": [
      "Created student dataset:\n",
      "  student_id     name  age        major   gpa  year  credits\n",
      "0     STU001    Alice   24  Mathematics  3.96     3       13\n",
      "1     STU002      Bob   21  Mathematics  2.85     2       17\n",
      "2     STU003  Charlie   22  Mathematics  2.64     1       15\n",
      "3     STU004    Diana   24  Engineering  3.43     4       17\n",
      "4     STU005      Eve   20  Engineering  3.07     2       18\n",
      "\n",
      "Dataset shape: (20, 7)\n"
     ]
    }
   ],
   "source": [
    "np.random.seed(42)  # For reproducible results\n",
    "\n",
    "students_data = {\n",
    "    'student_id': [f'STU{i:03d}' for i in range(1, 21)],\n",
    "    'name': ['Alice', 'Bob', 'Charlie', 'Diana', 'Eve', 'Frank', 'Grace', 'Henry',\n",
    "             'Ivy', 'Jack', 'Kate', 'Liam', 'Maya', 'Noah', 'Olivia', 'Paul',\n",
    "             'Quinn', 'Ruby', 'Sam', 'Tina'],\n",
    "    'age': np.random.randint(18, 25, 20),\n",
    "    'major': np.random.choice(['Statistics', 'Mathematics', 'Computer Science', 'Engineering'], 20),\n",
    "    'gpa': np.round(np.random.uniform(2.5, 4.0, 20), 2),\n",
    "    'year': np.random.choice([1, 2, 3, 4], 20),\n",
    "    'credits': np.random.randint(12, 20, 20)\n",
    "}\n",
    "\n",
    "df_students = pd.DataFrame(students_data)\n",
    "\n",
    "print(\"Created student dataset:\")\n",
    "print(df_students.head())\n",
    "print(f\"\\nDataset shape: {df_students.shape}\")"
   ]
  },
  {
   "cell_type": "markdown",
   "id": "ab8c8d55",
   "metadata": {},
   "source": [
    "### 1.3 Hiểu dữ liệu\n",
    "\n",
    "Tìm hiểu những thông tin cơ bản về dữ liệu đang chứa trong đối tượng DataFrame."
   ]
  },
  {
   "cell_type": "code",
   "execution_count": 7,
   "id": "440bd234",
   "metadata": {},
   "outputs": [
    {
     "name": "stdout",
     "output_type": "stream",
     "text": [
      "\n",
      "=== .head() and .tail() ===\n",
      "First 3 rows:\n",
      "  student_id     name  age        major   gpa  year  credits\n",
      "0     STU001    Alice   24  Mathematics  3.96     3       13\n",
      "1     STU002      Bob   21  Mathematics  2.85     2       17\n",
      "2     STU003  Charlie   22  Mathematics  2.64     1       15\n",
      "\n",
      "Last 3 rows:\n",
      "   student_id  name  age        major   gpa  year  credits\n",
      "17     STU018  Ruby   22  Mathematics  3.52     2       13\n",
      "18     STU019   Sam   19  Engineering  3.41     4       18\n",
      "19     STU020  Tina   21  Engineering  3.75     2       16\n",
      "=== .info() ===\n",
      "<class 'pandas.core.frame.DataFrame'>\n",
      "RangeIndex: 20 entries, 0 to 19\n",
      "Data columns (total 7 columns):\n",
      " #   Column      Non-Null Count  Dtype  \n",
      "---  ------      --------------  -----  \n",
      " 0   student_id  20 non-null     object \n",
      " 1   name        20 non-null     object \n",
      " 2   age         20 non-null     int32  \n",
      " 3   major       20 non-null     object \n",
      " 4   gpa         20 non-null     float64\n",
      " 5   year        20 non-null     int32  \n",
      " 6   credits     20 non-null     int32  \n",
      "dtypes: float64(1), int32(3), object(3)\n",
      "memory usage: 1012.0+ bytes\n",
      "None\n",
      "\n",
      "=== Data Types ===\n",
      "student_id     object\n",
      "name           object\n",
      "age             int32\n",
      "major          object\n",
      "gpa           float64\n",
      "year            int32\n",
      "credits         int32\n",
      "dtype: object\n",
      "\n",
      "=== Column Names ===\n",
      "['student_id', 'name', 'age', 'major', 'gpa', 'year', 'credits']\n",
      "\n",
      "=== Index ===\n",
      "Index: RangeIndex(start=0, stop=20, step=1)\n"
     ]
    }
   ],
   "source": [
    "print(\"\\n=== .head() and .tail() ===\")\n",
    "print(\"First 3 rows:\")\n",
    "print(df_students.head(3))\n",
    "print(\"\\nLast 3 rows:\")\n",
    "print(df_students.tail(3))\n",
    "\n",
    "print(\"=== .info() ===\")\n",
    "print(df_students.info())\n",
    "\n",
    "print(\"\\n=== Data Types ===\")\n",
    "print(df_students.dtypes)\n",
    "\n",
    "print(\"\\n=== Column Names ===\")\n",
    "print(df_students.columns.tolist())\n",
    "\n",
    "print(\"\\n=== Index ===\")\n",
    "print(f\"Index: {df_students.index}\")"
   ]
  },
  {
   "cell_type": "markdown",
   "id": "20a7bd89",
   "metadata": {},
   "source": [
    "Hàm `describe()` cung cấp các thông tin thống kê mô tả cho từng cột. Lưu ý rằng: hàm `describe()` này không bao gồm các giá trị *null*."
   ]
  },
  {
   "cell_type": "code",
   "execution_count": 8,
   "id": "e95867ff",
   "metadata": {},
   "outputs": [
    {
     "name": "stdout",
     "output_type": "stream",
     "text": [
      "\n",
      "=== .describe() ===\n",
      "             age        gpa   year    credits\n",
      "count  20.000000  20.000000  20.00  20.000000\n",
      "mean   21.500000   3.268500   2.50  16.600000\n",
      "std     1.670172   0.469235   1.00   2.112619\n",
      "min    19.000000   2.520000   1.00  12.000000\n",
      "25%    20.000000   2.857500   2.00  15.750000\n",
      "50%    21.500000   3.270000   2.00  17.000000\n",
      "75%    22.250000   3.577500   3.25  18.000000\n",
      "max    24.000000   3.970000   4.00  19.000000\n"
     ]
    }
   ],
   "source": [
    "print(\"\\n=== .describe() ===\")\n",
    "print(df_students.describe())"
   ]
  },
  {
   "cell_type": "code",
   "execution_count": 9,
   "id": "f496e16e",
   "metadata": {},
   "outputs": [
    {
     "name": "stdout",
     "output_type": "stream",
     "text": [
      "\n",
      "=== .describe() ===\n"
     ]
    },
    {
     "data": {
      "text/html": [
       "<div>\n",
       "<style scoped>\n",
       "    .dataframe tbody tr th:only-of-type {\n",
       "        vertical-align: middle;\n",
       "    }\n",
       "\n",
       "    .dataframe tbody tr th {\n",
       "        vertical-align: top;\n",
       "    }\n",
       "\n",
       "    .dataframe thead th {\n",
       "        text-align: right;\n",
       "    }\n",
       "</style>\n",
       "<table border=\"1\" class=\"dataframe\">\n",
       "  <thead>\n",
       "    <tr style=\"text-align: right;\">\n",
       "      <th></th>\n",
       "      <th>student_id</th>\n",
       "      <th>name</th>\n",
       "      <th>age</th>\n",
       "      <th>major</th>\n",
       "      <th>gpa</th>\n",
       "      <th>year</th>\n",
       "      <th>credits</th>\n",
       "    </tr>\n",
       "  </thead>\n",
       "  <tbody>\n",
       "    <tr>\n",
       "      <th>count</th>\n",
       "      <td>20</td>\n",
       "      <td>20</td>\n",
       "      <td>20.000000</td>\n",
       "      <td>20</td>\n",
       "      <td>20.000000</td>\n",
       "      <td>20.00</td>\n",
       "      <td>20.000000</td>\n",
       "    </tr>\n",
       "    <tr>\n",
       "      <th>unique</th>\n",
       "      <td>20</td>\n",
       "      <td>20</td>\n",
       "      <td>NaN</td>\n",
       "      <td>4</td>\n",
       "      <td>NaN</td>\n",
       "      <td>NaN</td>\n",
       "      <td>NaN</td>\n",
       "    </tr>\n",
       "    <tr>\n",
       "      <th>top</th>\n",
       "      <td>STU001</td>\n",
       "      <td>Alice</td>\n",
       "      <td>NaN</td>\n",
       "      <td>Mathematics</td>\n",
       "      <td>NaN</td>\n",
       "      <td>NaN</td>\n",
       "      <td>NaN</td>\n",
       "    </tr>\n",
       "    <tr>\n",
       "      <th>freq</th>\n",
       "      <td>1</td>\n",
       "      <td>1</td>\n",
       "      <td>NaN</td>\n",
       "      <td>6</td>\n",
       "      <td>NaN</td>\n",
       "      <td>NaN</td>\n",
       "      <td>NaN</td>\n",
       "    </tr>\n",
       "    <tr>\n",
       "      <th>mean</th>\n",
       "      <td>NaN</td>\n",
       "      <td>NaN</td>\n",
       "      <td>21.500000</td>\n",
       "      <td>NaN</td>\n",
       "      <td>3.268500</td>\n",
       "      <td>2.50</td>\n",
       "      <td>16.600000</td>\n",
       "    </tr>\n",
       "    <tr>\n",
       "      <th>std</th>\n",
       "      <td>NaN</td>\n",
       "      <td>NaN</td>\n",
       "      <td>1.670172</td>\n",
       "      <td>NaN</td>\n",
       "      <td>0.469235</td>\n",
       "      <td>1.00</td>\n",
       "      <td>2.112619</td>\n",
       "    </tr>\n",
       "    <tr>\n",
       "      <th>min</th>\n",
       "      <td>NaN</td>\n",
       "      <td>NaN</td>\n",
       "      <td>19.000000</td>\n",
       "      <td>NaN</td>\n",
       "      <td>2.520000</td>\n",
       "      <td>1.00</td>\n",
       "      <td>12.000000</td>\n",
       "    </tr>\n",
       "    <tr>\n",
       "      <th>25%</th>\n",
       "      <td>NaN</td>\n",
       "      <td>NaN</td>\n",
       "      <td>20.000000</td>\n",
       "      <td>NaN</td>\n",
       "      <td>2.857500</td>\n",
       "      <td>2.00</td>\n",
       "      <td>15.750000</td>\n",
       "    </tr>\n",
       "    <tr>\n",
       "      <th>50%</th>\n",
       "      <td>NaN</td>\n",
       "      <td>NaN</td>\n",
       "      <td>21.500000</td>\n",
       "      <td>NaN</td>\n",
       "      <td>3.270000</td>\n",
       "      <td>2.00</td>\n",
       "      <td>17.000000</td>\n",
       "    </tr>\n",
       "    <tr>\n",
       "      <th>75%</th>\n",
       "      <td>NaN</td>\n",
       "      <td>NaN</td>\n",
       "      <td>22.250000</td>\n",
       "      <td>NaN</td>\n",
       "      <td>3.577500</td>\n",
       "      <td>3.25</td>\n",
       "      <td>18.000000</td>\n",
       "    </tr>\n",
       "    <tr>\n",
       "      <th>max</th>\n",
       "      <td>NaN</td>\n",
       "      <td>NaN</td>\n",
       "      <td>24.000000</td>\n",
       "      <td>NaN</td>\n",
       "      <td>3.970000</td>\n",
       "      <td>4.00</td>\n",
       "      <td>19.000000</td>\n",
       "    </tr>\n",
       "  </tbody>\n",
       "</table>\n",
       "</div>"
      ],
      "text/plain": [
       "       student_id   name        age        major        gpa   year    credits\n",
       "count          20     20  20.000000           20  20.000000  20.00  20.000000\n",
       "unique         20     20        NaN            4        NaN    NaN        NaN\n",
       "top        STU001  Alice        NaN  Mathematics        NaN    NaN        NaN\n",
       "freq            1      1        NaN            6        NaN    NaN        NaN\n",
       "mean          NaN    NaN  21.500000          NaN   3.268500   2.50  16.600000\n",
       "std           NaN    NaN   1.670172          NaN   0.469235   1.00   2.112619\n",
       "min           NaN    NaN  19.000000          NaN   2.520000   1.00  12.000000\n",
       "25%           NaN    NaN  20.000000          NaN   2.857500   2.00  15.750000\n",
       "50%           NaN    NaN  21.500000          NaN   3.270000   2.00  17.000000\n",
       "75%           NaN    NaN  22.250000          NaN   3.577500   3.25  18.000000\n",
       "max           NaN    NaN  24.000000          NaN   3.970000   4.00  19.000000"
      ]
     },
     "execution_count": 9,
     "metadata": {},
     "output_type": "execute_result"
    }
   ],
   "source": [
    "# Display all statistics including categorical data\n",
    "print(\"\\n=== .describe() ===\")\n",
    "df_students.describe(include='all')"
   ]
  },
  {
   "cell_type": "markdown",
   "id": "c4f17395",
   "metadata": {},
   "source": [
    "**Kiểm tra dữ liệu bị thiếu (missing data)**"
   ]
  },
  {
   "cell_type": "code",
   "execution_count": 10,
   "id": "dc615377",
   "metadata": {},
   "outputs": [
    {
     "name": "stdout",
     "output_type": "stream",
     "text": [
      "student_id    0\n",
      "name          0\n",
      "age           0\n",
      "major         0\n",
      "gpa           0\n",
      "year          0\n",
      "credits       0\n",
      "dtype: int64\n"
     ]
    }
   ],
   "source": [
    "print(df_students.isnull().sum())"
   ]
  },
  {
   "cell_type": "markdown",
   "id": "64982eab",
   "metadata": {},
   "source": [
    "### 1.4 Lọc dữ liệu\n"
   ]
  },
  {
   "cell_type": "code",
   "execution_count": 11,
   "id": "1c683bd6",
   "metadata": {},
   "outputs": [
    {
     "name": "stdout",
     "output_type": "stream",
     "text": [
      "=== Column Selection ===\n",
      "Single column (returns Series):\n",
      "0      Alice\n",
      "1        Bob\n",
      "2    Charlie\n",
      "3      Diana\n",
      "4        Eve\n",
      "Name: name, dtype: object\n",
      "\n",
      "Multiple columns (returns DataFrame):\n",
      "      name   gpa        major\n",
      "0    Alice  3.96  Mathematics\n",
      "1      Bob  2.85  Mathematics\n",
      "2  Charlie  2.64  Mathematics\n",
      "3    Diana  3.43  Engineering\n",
      "4      Eve  3.07  Engineering\n"
     ]
    }
   ],
   "source": [
    "# Column selection\n",
    "print(\"=== Column Selection ===\")\n",
    "print(\"Single column (returns Series):\")\n",
    "print(df_students['name'].head())\n",
    "\n",
    "print(\"\\nMultiple columns (returns DataFrame):\")\n",
    "print(df_students[['name', 'gpa', 'major']].head())"
   ]
  },
  {
   "cell_type": "code",
   "execution_count": 12,
   "id": "3066773c",
   "metadata": {},
   "outputs": [
    {
     "name": "stdout",
     "output_type": "stream",
     "text": [
      "\n",
      "=== Row Selection ===\n",
      "Using .loc (label-based):\n",
      "      name   gpa\n",
      "0    Alice  3.96\n",
      "1      Bob  2.85\n",
      "2  Charlie  2.64\n",
      "\n",
      "Using .iloc (position-based):\n",
      "      name  age        major\n",
      "0    Alice   24  Mathematics\n",
      "1      Bob   21  Mathematics\n",
      "2  Charlie   22  Mathematics\n"
     ]
    }
   ],
   "source": [
    "# Row selection with .loc and .iloc\n",
    "print(\"\\n=== Row Selection ===\")\n",
    "print(\"Using .loc (label-based):\")\n",
    "print(df_students.loc[0:2, ['name', 'gpa']])\n",
    "\n",
    "print(\"\\nUsing .iloc (position-based):\")\n",
    "print(df_students.iloc[0:3, 1:4])"
   ]
  },
  {
   "cell_type": "code",
   "execution_count": 13,
   "id": "347c3901",
   "metadata": {},
   "outputs": [
    {
     "name": "stdout",
     "output_type": "stream",
     "text": [
      "\n",
      "=== Boolean Filtering ===\n",
      "Students with GPA >= 3.5 (7 students):\n",
      "     name   gpa        major\n",
      "0   Alice  3.96  Mathematics\n",
      "5   Frank  3.97   Statistics\n",
      "7   Henry  3.79  Engineering\n",
      "8     Ivy  3.52  Mathematics\n",
      "11   Liam  3.91  Engineering\n",
      "17   Ruby  3.52  Mathematics\n",
      "19   Tina  3.75  Engineering\n",
      "\n",
      "Engineering seniors (2 students):\n",
      "     name  year   gpa\n",
      "3   Diana     4  3.43\n",
      "18    Sam     4  3.41\n",
      "\n",
      "=== Using .query() Method ===\n",
      "Young high-achievers (7 students):\n",
      "    name  age   gpa\n",
      "4    Eve   20  3.07\n",
      "8    Ivy   19  3.52\n",
      "9   Jack   20  3.18\n",
      "11  Liam   20  3.91\n",
      "12  Maya   20  3.34\n",
      "18   Sam   19  3.41\n",
      "19  Tina   21  3.75\n"
     ]
    }
   ],
   "source": [
    "# Boolean filtering\n",
    "print(\"\\n=== Boolean Filtering ===\")\n",
    "\n",
    "# Students with high GPA\n",
    "high_gpa_students = df_students[df_students['gpa'] >= 3.5]\n",
    "print(f\"Students with GPA >= 3.5 ({len(high_gpa_students)} students):\")\n",
    "print(high_gpa_students[['name', 'gpa', 'major']])\n",
    "\n",
    "# Multiple conditions\n",
    "engineering_seniors = df_students[\n",
    "    (df_students['major'] == 'Engineering') & \n",
    "    (df_students['year'] >= 3)\n",
    "]\n",
    "print(f\"\\nEngineering seniors ({len(engineering_seniors)} students):\")\n",
    "print(engineering_seniors[['name', 'year', 'gpa']])\n",
    "\n",
    "# Using .query() method (alternative syntax)\n",
    "print(\"\\n=== Using .query() Method ===\")\n",
    "query_result = df_students.query('gpa > 3.0 and age < 22')\n",
    "print(f\"Young high-achievers ({len(query_result)} students):\")\n",
    "print(query_result[['name', 'age', 'gpa']])"
   ]
  },
  {
   "cell_type": "markdown",
   "id": "d7729df4",
   "metadata": {},
   "source": [
    "### 1.5 Thêm, Cập nhật cột\n",
    "\n",
    "Giả sử ta muốn thêm hai cột mới:\n",
    "- `gpa_category`: phân loại sinh viên dựa trên điểm trung bình `gpa`\n",
    "- `is_senior`: đánh dấu sinh viên năm cuối (năm 3 và năm 4)\n",
    "- `credits_per_year`: tính số tín chỉ trung bình mỗi năm (giả sử mỗi sinh viên phải hoàn thành 24 tín chỉ để tốt nghiệp)"
   ]
  },
  {
   "cell_type": "code",
   "execution_count": 14,
   "id": "3f58d1c1",
   "metadata": {},
   "outputs": [],
   "source": [
    "# Create new columns\n",
    "df_students['gpa_category'] = pd.cut(df_students['gpa'], \n",
    "                                    bins=[0, 2.5, 3.0, 3.5, 4.0], \n",
    "                                    labels=['Low', 'Fair', 'Good', 'Excellent'])\n",
    "\n",
    "df_students['is_senior'] = df_students['year'] >= 3"
   ]
  },
  {
   "cell_type": "markdown",
   "id": "381c22f9",
   "metadata": {},
   "source": [
    "---\n",
    "\n",
    "## 2. XỬ LÝ DỮ LIỆU\n",
    "### 2.1 Xử lý dữ liệu bị thiếu\n",
    "\n",
    "Trong thực tế, dữ liệu thường không đầy đủ và có thể có những giá trị bị thiếu (missing values). Việc xử lý dữ liệu bị thiếu là một bước quan trọng trong quá trình phân tích dữ liệu. Trong ví dụ này, ta sẽ xem xét một bộ dữ liệu về điểm số của sinh viên với một số giá trị bị thiếu."
   ]
  },
  {
   "cell_type": "code",
   "execution_count": 20,
   "id": "9fc4bb30",
   "metadata": {},
   "outputs": [
    {
     "name": "stdout",
     "output_type": "stream",
     "text": [
      "\n",
      "--- Handling Missing Values ---\n",
      "Dataset with missing values:\n",
      "   student_id  math_score  english_score  science_score  attendance\n",
      "0      STU001        85.0           78.0           90.0        95.0\n",
      "1      STU002        92.0            NaN           88.0        88.0\n",
      "2      STU003         NaN           85.0           87.0        92.0\n",
      "3      STU004        88.0           82.0            NaN        85.0\n",
      "4      STU005        95.0           88.0           92.0         NaN\n",
      "5      STU006        78.0            NaN           85.0        78.0\n",
      "6      STU007         NaN           79.0           88.0        90.0\n",
      "7      STU008        89.0           87.0            NaN        87.0\n",
      "8      STU009        84.0            NaN           86.0         NaN\n",
      "9      STU010        91.0           83.0           89.0        94.0\n",
      "10     STU011        87.0           86.0            NaN        89.0\n",
      "11     STU012         NaN           81.0           84.0        82.0\n",
      "12     STU013        82.0           84.0           87.0         NaN\n",
      "13     STU014        90.0            NaN           91.0        91.0\n",
      "14     STU015        86.0           89.0           88.0        86.0\n"
     ]
    }
   ],
   "source": [
    "print(\"\\n--- Handling Missing Values ---\")\n",
    "\n",
    "# Create a dataset with missing values\n",
    "grades_data = {\n",
    "    'student_id': [f'STU{i:03d}' for i in range(1, 16)],\n",
    "    'math_score': [85, 92, None, 88, 95, 78, None, 89, 84, 91, 87, None, 82, 90, 86],\n",
    "    'english_score': [78, None, 85, 82, 88, None, 79, 87, None, 83, 86, 81, 84, None, 89],\n",
    "    'science_score': [90, 88, 87, None, 92, 85, 88, None, 86, 89, None, 84, 87, 91, 88],\n",
    "    'attendance': [95, 88, 92, 85, None, 78, 90, 87, None, 94, 89, 82, None, 91, 86]\n",
    "}\n",
    "\n",
    "df_grades = pd.DataFrame(grades_data)\n",
    "print(\"Dataset with missing values:\")\n",
    "print(df_grades)"
   ]
  },
  {
   "cell_type": "code",
   "execution_count": 21,
   "id": "4d6d7d0c",
   "metadata": {},
   "outputs": [
    {
     "name": "stdout",
     "output_type": "stream",
     "text": [
      "\n",
      "Missing value summary:\n",
      "student_id       0\n",
      "math_score       3\n",
      "english_score    4\n",
      "science_score    3\n",
      "attendance       3\n",
      "dtype: int64\n",
      "\n",
      "Percentage of missing values:\n",
      "student_id        0.000000\n",
      "math_score       20.000000\n",
      "english_score    26.666667\n",
      "science_score    20.000000\n",
      "attendance       20.000000\n",
      "dtype: float64\n"
     ]
    }
   ],
   "source": [
    "print(\"\\nMissing value summary:\")\n",
    "print(df_grades.isnull().sum())\n",
    "print(f\"\\nPercentage of missing values:\")\n",
    "print(df_grades.isnull().sum() / len(df_grades) * 100)"
   ]
  },
  {
   "cell_type": "code",
   "execution_count": 22,
   "id": "f9a17f44",
   "metadata": {},
   "outputs": [
    {
     "name": "stdout",
     "output_type": "stream",
     "text": [
      "\n",
      "Rows with any missing values:\n",
      "   student_id  math_score  english_score  science_score  attendance\n",
      "1      STU002        92.0            NaN           88.0        88.0\n",
      "2      STU003         NaN           85.0           87.0        92.0\n",
      "3      STU004        88.0           82.0            NaN        85.0\n",
      "4      STU005        95.0           88.0           92.0         NaN\n",
      "5      STU006        78.0            NaN           85.0        78.0\n",
      "6      STU007         NaN           79.0           88.0        90.0\n",
      "7      STU008        89.0           87.0            NaN        87.0\n",
      "8      STU009        84.0            NaN           86.0         NaN\n",
      "10     STU011        87.0           86.0            NaN        89.0\n",
      "11     STU012         NaN           81.0           84.0        82.0\n",
      "12     STU013        82.0           84.0           87.0         NaN\n",
      "13     STU014        90.0            NaN           91.0        91.0\n"
     ]
    }
   ],
   "source": [
    "# Check missing value patterns\n",
    "print(\"\\nRows with any missing values:\")\n",
    "print(df_grades[df_grades.isnull().any(axis=1)])"
   ]
  },
  {
   "cell_type": "markdown",
   "id": "91c89b2e",
   "metadata": {},
   "source": [
    "Vậy đối với dữ liệu bị thiếu, ta phải làm gì? Tùy theo mục tiêu phân tích và tính chất của dữ liệu, ta có thể áp dụng các chiến lược khác nhau để xử lý dữ liệu bị thiếu. Nhìn chung sẽ có hai cách tiếp cận chính:\n",
    "\n",
    "**Chiến luợc xử lý dữ liệu bị thiếu**:\n",
    "- Loại bỏ giá trị bị thiếu: loại bỏ các hàng hoặc cột có giá trị bị thiếu\n",
    "- Thay thế giá trị bị thiếu bằng một giá trị cụ thể: thay thế giá trị bị thiếu bằng một giá trị cụ thể (như 0 hoặc -1), mean, median, mode hoặc giá trị lân cận."
   ]
  },
  {
   "cell_type": "code",
   "execution_count": 23,
   "id": "2c605f7c",
   "metadata": {},
   "outputs": [
    {
     "name": "stdout",
     "output_type": "stream",
     "text": [
      "\n",
      "=== Basic Missing Value Strategies ===\n",
      "Original rows: 15, After dropping rows: 3\n"
     ]
    }
   ],
   "source": [
    "# Basic missing value handling strategies\n",
    "print(\"\\n=== Basic Missing Value Strategies ===\")\n",
    "\n",
    "# Strategy 1: Drop rows with missing values\n",
    "df_drop_rows = df_grades.dropna()\n",
    "print(f\"Original rows: {len(df_grades)}, After dropping rows: {len(df_drop_rows)}\")"
   ]
  },
  {
   "cell_type": "code",
   "execution_count": 24,
   "id": "c67f8b84",
   "metadata": {},
   "outputs": [
    {
     "name": "stdout",
     "output_type": "stream",
     "text": [
      "Original columns: 5, After dropping columns: 1\n"
     ]
    }
   ],
   "source": [
    "# Strategy 2: Drop columns with missing values\n",
    "df_drop_cols = df_grades.dropna(axis=1)\n",
    "print(f\"Original columns: {df_grades.shape[1]}, After dropping columns: {df_drop_cols.shape[1]}\")"
   ]
  },
  {
   "cell_type": "code",
   "execution_count": 25,
   "id": "215aeeaf",
   "metadata": {},
   "outputs": [
    {
     "name": "stdout",
     "output_type": "stream",
     "text": [
      "\n",
      "Dataset after filling with mean:\n",
      "       math_score  english_score  science_score  attendance\n",
      "count   15.000000      15.000000      15.000000   15.000000\n",
      "mean    87.250000      83.818182      87.916667   88.083333\n",
      "std      4.125271       3.042982       2.085951    4.350014\n",
      "min     78.000000      78.000000      84.000000   78.000000\n",
      "25%     85.500000      82.500000      87.000000   86.500000\n",
      "50%     87.250000      83.818182      87.916667   88.083333\n",
      "75%     89.500000      85.500000      88.500000   90.500000\n",
      "max     95.000000      89.000000      92.000000   95.000000\n"
     ]
    }
   ],
   "source": [
    "# Strategy 3: Fill with mean\n",
    "df_fill_mean = df_grades.copy()\n",
    "for col in ['math_score', 'english_score', 'science_score', 'attendance']:\n",
    "    df_fill_mean[col] = df_fill_mean[col].fillna(df_fill_mean[col].mean())\n",
    "\n",
    "print(\"\\nDataset after filling with mean:\")\n",
    "print(df_fill_mean.describe())"
   ]
  },
  {
   "cell_type": "code",
   "execution_count": 26,
   "id": "33868a5a",
   "metadata": {},
   "outputs": [
    {
     "name": "stdout",
     "output_type": "stream",
     "text": [
      "\n",
      "Comparison of fill strategies (first few rows):\n",
      "   Original_Math  Mean_Fill  Forward_Fill  Backward_Fill\n",
      "0           85.0      85.00          85.0           85.0\n",
      "1           92.0      92.00          92.0           92.0\n",
      "2            NaN      87.25          92.0           88.0\n",
      "3           88.0      88.00          88.0           88.0\n",
      "4           95.0      95.00          95.0           95.0\n",
      "5           78.0      78.00          78.0           78.0\n",
      "6            NaN      87.25          78.0           89.0\n",
      "7           89.0      89.00          89.0           89.0\n"
     ]
    }
   ],
   "source": [
    "# Strategy 4: Forward fill and backward fill\n",
    "df_fill_forward = df_grades.ffill()  # Forward fill\n",
    "df_fill_backward = df_grades.bfill()  # Backward fill\n",
    "\n",
    "print(\"\\nComparison of fill strategies (first few rows):\")\n",
    "comparison = pd.DataFrame({\n",
    "    'Original_Math': df_grades['math_score'].head(8),\n",
    "    'Mean_Fill': df_fill_mean['math_score'].head(8),\n",
    "    'Forward_Fill': df_fill_forward['math_score'].head(8),\n",
    "    'Backward_Fill': df_fill_backward['math_score'].head(8)\n",
    "})\n",
    "print(comparison)"
   ]
  },
  {
   "cell_type": "markdown",
   "id": "59b17552",
   "metadata": {},
   "source": [
    "### 2.2 Gom nhóm và tổng hợp\n"
   ]
  },
  {
   "cell_type": "code",
   "execution_count": 27,
   "id": "70c37bf4",
   "metadata": {},
   "outputs": [
    {
     "name": "stdout",
     "output_type": "stream",
     "text": [
      "\n",
      "--- Grouping and Aggregation ---\n",
      "=== Basic Groupby Operations ===\n",
      "Statistics by major:\n",
      "                   gpa                            age         credits     \n",
      "                  mean   std   min   max count   mean min max    mean  sum\n",
      "major                                                                     \n",
      "Computer Science  2.74  0.19  2.52  2.86     3  21.33  20  23   17.00   51\n",
      "Engineering       3.56  0.31  3.07  3.91     6  21.33  19  24   16.67  100\n",
      "Mathematics       3.28  0.49  2.64  3.96     6  21.33  19  24   15.50   93\n",
      "Statistics        3.22  0.52  2.52  3.97     5  22.00  20  24   17.60   88\n"
     ]
    }
   ],
   "source": [
    "# 2.2 Grouping and Aggregation\n",
    "print(\"\\n--- Grouping and Aggregation ---\")\n",
    "\n",
    "# Let's work with our student dataset\n",
    "print(\"=== Basic Groupby Operations ===\")\n",
    "\n",
    "# Group by major and calculate statistics\n",
    "major_stats = df_students.groupby('major').agg({\n",
    "    'gpa': ['mean', 'std', 'min', 'max', 'count'],\n",
    "    'age': ['mean', 'min', 'max'],\n",
    "    'credits': ['mean', 'sum']\n",
    "}).round(2)\n",
    "\n",
    "print(\"Statistics by major:\")\n",
    "print(major_stats)"
   ]
  },
  {
   "cell_type": "code",
   "execution_count": 28,
   "id": "1b05a272",
   "metadata": {},
   "outputs": [
    {
     "name": "stdout",
     "output_type": "stream",
     "text": [
      "\n",
      "GPA statistics by year and major:\n",
      "                       mean  count\n",
      "year major                        \n",
      "1    Computer Science  2.52      1\n",
      "     Mathematics       2.64      1\n",
      "2    Computer Science  2.86      1\n",
      "     Engineering       3.63      4\n",
      "     Mathematics       3.27      4\n",
      "     Statistics        2.80      2\n",
      "3    Computer Science  2.85      1\n",
      "     Mathematics       3.96      1\n",
      "4    Engineering       3.42      2\n",
      "     Statistics        3.50      3\n"
     ]
    }
   ],
   "source": [
    "# Group by multiple columns\n",
    "year_major_stats = df_students.groupby(['year', 'major'])['gpa'].agg(['mean', 'count']).round(2)\n",
    "print(\"\\nGPA statistics by year and major:\")\n",
    "print(year_major_stats)"
   ]
  },
  {
   "cell_type": "code",
   "execution_count": 29,
   "id": "49b43848",
   "metadata": {},
   "outputs": [
    {
     "name": "stdout",
     "output_type": "stream",
     "text": [
      "\n",
      "Custom aggregation by major:\n",
      "                   mean    std  range     cv\n",
      "major                                       \n",
      "Computer Science  2.743  0.193   0.34  0.071\n",
      "Engineering       3.560  0.313   0.84  0.088\n",
      "Mathematics       3.278  0.486   1.32  0.148\n",
      "Statistics        3.222  0.521   1.45  0.162\n"
     ]
    }
   ],
   "source": [
    "# Custom aggregation functions\n",
    "def gpa_range(series):\n",
    "    return series.max() - series.min()\n",
    "\n",
    "custom_agg = df_students.groupby('major')['gpa'].agg([\n",
    "    'mean', \n",
    "    'std', \n",
    "    ('range', gpa_range),\n",
    "    ('cv', lambda x: x.std() / x.mean())  # Coefficient of variation\n",
    "]).round(3)\n",
    "\n",
    "print(\"\\nCustom aggregation by major:\")\n",
    "print(custom_agg)"
   ]
  },
  {
   "cell_type": "markdown",
   "id": "182ba18c",
   "metadata": {},
   "source": [
    "### 2.3. Hợp nhất dữ DataFrame (đọc thêm)\n",
    "\n",
    "Tương tự như trong SQL, ta có thể hợp nhất (merge) hai DataFrame dựa trên một hoặc nhiều cột chung.\n"
   ]
  },
  {
   "cell_type": "code",
   "execution_count": 30,
   "id": "4febd908",
   "metadata": {},
   "outputs": [
    {
     "name": "stdout",
     "output_type": "stream",
     "text": [
      "\n",
      "--- Merging and Joining DataFrames ---\n",
      "Course enrollment data:\n",
      "  student_id course_code  semester  grade\n",
      "0     STU001     STAT301  Fall2024    3.7\n",
      "1     STU002     MATH205  Fall2024    3.3\n",
      "2     STU003     STAT301  Fall2024    3.9\n",
      "3     STU004       CS101  Fall2024    3.5\n",
      "4     STU005     STAT301  Fall2024    3.8\n",
      "\n",
      "Course information:\n",
      "  course_code  course_name  credits        department\n",
      "0     STAT301   Statistics        3        Statistics\n",
      "1     MATH205  Calculus II        4       Mathematics\n",
      "2       CS101  Programming        3  Computer Science\n",
      "3      ENG101      English        3           English\n"
     ]
    }
   ],
   "source": [
    "print(\"\\n--- Merging and Joining DataFrames ---\")\n",
    "\n",
    "# Create additional datasets for merging (leveraging SQL experience)\n",
    "course_enrollment = pd.DataFrame({\n",
    "    'student_id': ['STU001', 'STU002', 'STU003', 'STU004', 'STU005', \n",
    "                   'STU006', 'STU007', 'STU008', 'STU009', 'STU010'],\n",
    "    'course_code': ['STAT301', 'MATH205', 'STAT301', 'CS101', 'STAT301',\n",
    "                    'MATH205', 'CS101', 'STAT301', 'MATH205', 'CS101'],\n",
    "    'semester': ['Fall2024', 'Fall2024', 'Fall2024', 'Fall2024', 'Fall2024',\n",
    "                 'Spring2024', 'Spring2024', 'Spring2024', 'Spring2024', 'Spring2024'],\n",
    "    'grade': [3.7, 3.3, 3.9, 3.5, 3.8, 3.2, 3.6, 3.4, 3.1, 3.9]\n",
    "})\n",
    "\n",
    "course_info = pd.DataFrame({\n",
    "    'course_code': ['STAT301', 'MATH205', 'CS101', 'ENG101'],\n",
    "    'course_name': ['Statistics', 'Calculus II', 'Programming', 'English'],\n",
    "    'credits': [3, 4, 3, 3],\n",
    "    'department': ['Statistics', 'Mathematics', 'Computer Science', 'English']\n",
    "})\n",
    "\n",
    "print(\"Course enrollment data:\")\n",
    "print(course_enrollment.head())\n",
    "print(\"\\nCourse information:\")\n",
    "print(course_info)"
   ]
  },
  {
   "cell_type": "code",
   "execution_count": 31,
   "id": "93e13920",
   "metadata": {},
   "outputs": [
    {
     "name": "stdout",
     "output_type": "stream",
     "text": [
      "\n",
      "=== Inner Join ===\n",
      "Enrollment with course information:\n"
     ]
    },
    {
     "data": {
      "text/html": [
       "<div>\n",
       "<style scoped>\n",
       "    .dataframe tbody tr th:only-of-type {\n",
       "        vertical-align: middle;\n",
       "    }\n",
       "\n",
       "    .dataframe tbody tr th {\n",
       "        vertical-align: top;\n",
       "    }\n",
       "\n",
       "    .dataframe thead th {\n",
       "        text-align: right;\n",
       "    }\n",
       "</style>\n",
       "<table border=\"1\" class=\"dataframe\">\n",
       "  <thead>\n",
       "    <tr style=\"text-align: right;\">\n",
       "      <th></th>\n",
       "      <th>student_id</th>\n",
       "      <th>course_code</th>\n",
       "      <th>semester</th>\n",
       "      <th>grade</th>\n",
       "      <th>course_name</th>\n",
       "      <th>credits</th>\n",
       "      <th>department</th>\n",
       "    </tr>\n",
       "  </thead>\n",
       "  <tbody>\n",
       "    <tr>\n",
       "      <th>0</th>\n",
       "      <td>STU001</td>\n",
       "      <td>STAT301</td>\n",
       "      <td>Fall2024</td>\n",
       "      <td>3.7</td>\n",
       "      <td>Statistics</td>\n",
       "      <td>3</td>\n",
       "      <td>Statistics</td>\n",
       "    </tr>\n",
       "    <tr>\n",
       "      <th>1</th>\n",
       "      <td>STU002</td>\n",
       "      <td>MATH205</td>\n",
       "      <td>Fall2024</td>\n",
       "      <td>3.3</td>\n",
       "      <td>Calculus II</td>\n",
       "      <td>4</td>\n",
       "      <td>Mathematics</td>\n",
       "    </tr>\n",
       "    <tr>\n",
       "      <th>2</th>\n",
       "      <td>STU003</td>\n",
       "      <td>STAT301</td>\n",
       "      <td>Fall2024</td>\n",
       "      <td>3.9</td>\n",
       "      <td>Statistics</td>\n",
       "      <td>3</td>\n",
       "      <td>Statistics</td>\n",
       "    </tr>\n",
       "    <tr>\n",
       "      <th>3</th>\n",
       "      <td>STU004</td>\n",
       "      <td>CS101</td>\n",
       "      <td>Fall2024</td>\n",
       "      <td>3.5</td>\n",
       "      <td>Programming</td>\n",
       "      <td>3</td>\n",
       "      <td>Computer Science</td>\n",
       "    </tr>\n",
       "    <tr>\n",
       "      <th>4</th>\n",
       "      <td>STU005</td>\n",
       "      <td>STAT301</td>\n",
       "      <td>Fall2024</td>\n",
       "      <td>3.8</td>\n",
       "      <td>Statistics</td>\n",
       "      <td>3</td>\n",
       "      <td>Statistics</td>\n",
       "    </tr>\n",
       "  </tbody>\n",
       "</table>\n",
       "</div>"
      ],
      "text/plain": [
       "  student_id course_code  semester  grade  course_name  credits  \\\n",
       "0     STU001     STAT301  Fall2024    3.7   Statistics        3   \n",
       "1     STU002     MATH205  Fall2024    3.3  Calculus II        4   \n",
       "2     STU003     STAT301  Fall2024    3.9   Statistics        3   \n",
       "3     STU004       CS101  Fall2024    3.5  Programming        3   \n",
       "4     STU005     STAT301  Fall2024    3.8   Statistics        3   \n",
       "\n",
       "         department  \n",
       "0        Statistics  \n",
       "1       Mathematics  \n",
       "2        Statistics  \n",
       "3  Computer Science  \n",
       "4        Statistics  "
      ]
     },
     "execution_count": 31,
     "metadata": {},
     "output_type": "execute_result"
    }
   ],
   "source": [
    "# Inner Join (similar to SQL INNER JOIN)\n",
    "print(\"\\n=== Inner Join ===\")\n",
    "enrollment_with_info = pd.merge(course_enrollment, course_info, on='course_code', how='inner')\n",
    "print(\"Enrollment with course information:\")\n",
    "enrollment_with_info.head()         # you can also use print(enrollment_with_info.head())"
   ]
  },
  {
   "cell_type": "code",
   "execution_count": 32,
   "id": "51682944",
   "metadata": {},
   "outputs": [
    {
     "name": "stdout",
     "output_type": "stream",
     "text": [
      "\n",
      "=== Left Join ===\n",
      "Original enrollments: 10, After left join: 10\n",
      "Empty DataFrame\n",
      "Columns: [student_id, course_code, semester, grade, course_name, credits, department]\n",
      "Index: []\n"
     ]
    }
   ],
   "source": [
    "# Left Join (similar to SQL LEFT JOIN)\n",
    "print(\"\\n=== Left Join ===\")\n",
    "all_enrollments = pd.merge(course_enrollment, course_info, on='course_code', how='left')\n",
    "print(f\"Original enrollments: {len(course_enrollment)}, After left join: {len(all_enrollments)}\")\n",
    "print(all_enrollments[all_enrollments['course_name'].isnull()])  # Check for missing matches\n",
    "\n"
   ]
  },
  {
   "cell_type": "code",
   "execution_count": 33,
   "id": "e7e23a54",
   "metadata": {},
   "outputs": [
    {
     "name": "stdout",
     "output_type": "stream",
     "text": [
      "\n",
      "=== Merging Multiple DataFrames ===\n",
      "Complete student course information:\n"
     ]
    },
    {
     "data": {
      "text/html": [
       "<div>\n",
       "<style scoped>\n",
       "    .dataframe tbody tr th:only-of-type {\n",
       "        vertical-align: middle;\n",
       "    }\n",
       "\n",
       "    .dataframe tbody tr th {\n",
       "        vertical-align: top;\n",
       "    }\n",
       "\n",
       "    .dataframe thead th {\n",
       "        text-align: right;\n",
       "    }\n",
       "</style>\n",
       "<table border=\"1\" class=\"dataframe\">\n",
       "  <thead>\n",
       "    <tr style=\"text-align: right;\">\n",
       "      <th></th>\n",
       "      <th>student_id</th>\n",
       "      <th>course_code</th>\n",
       "      <th>semester</th>\n",
       "      <th>grade</th>\n",
       "      <th>course_name</th>\n",
       "      <th>credits</th>\n",
       "      <th>department</th>\n",
       "      <th>name</th>\n",
       "      <th>major</th>\n",
       "      <th>gpa</th>\n",
       "    </tr>\n",
       "  </thead>\n",
       "  <tbody>\n",
       "    <tr>\n",
       "      <th>0</th>\n",
       "      <td>STU001</td>\n",
       "      <td>STAT301</td>\n",
       "      <td>Fall2024</td>\n",
       "      <td>3.7</td>\n",
       "      <td>Statistics</td>\n",
       "      <td>3</td>\n",
       "      <td>Statistics</td>\n",
       "      <td>Alice</td>\n",
       "      <td>Mathematics</td>\n",
       "      <td>3.96</td>\n",
       "    </tr>\n",
       "    <tr>\n",
       "      <th>1</th>\n",
       "      <td>STU002</td>\n",
       "      <td>MATH205</td>\n",
       "      <td>Fall2024</td>\n",
       "      <td>3.3</td>\n",
       "      <td>Calculus II</td>\n",
       "      <td>4</td>\n",
       "      <td>Mathematics</td>\n",
       "      <td>Bob</td>\n",
       "      <td>Mathematics</td>\n",
       "      <td>2.85</td>\n",
       "    </tr>\n",
       "    <tr>\n",
       "      <th>2</th>\n",
       "      <td>STU003</td>\n",
       "      <td>STAT301</td>\n",
       "      <td>Fall2024</td>\n",
       "      <td>3.9</td>\n",
       "      <td>Statistics</td>\n",
       "      <td>3</td>\n",
       "      <td>Statistics</td>\n",
       "      <td>Charlie</td>\n",
       "      <td>Mathematics</td>\n",
       "      <td>2.64</td>\n",
       "    </tr>\n",
       "    <tr>\n",
       "      <th>3</th>\n",
       "      <td>STU004</td>\n",
       "      <td>CS101</td>\n",
       "      <td>Fall2024</td>\n",
       "      <td>3.5</td>\n",
       "      <td>Programming</td>\n",
       "      <td>3</td>\n",
       "      <td>Computer Science</td>\n",
       "      <td>Diana</td>\n",
       "      <td>Engineering</td>\n",
       "      <td>3.43</td>\n",
       "    </tr>\n",
       "    <tr>\n",
       "      <th>4</th>\n",
       "      <td>STU005</td>\n",
       "      <td>STAT301</td>\n",
       "      <td>Fall2024</td>\n",
       "      <td>3.8</td>\n",
       "      <td>Statistics</td>\n",
       "      <td>3</td>\n",
       "      <td>Statistics</td>\n",
       "      <td>Eve</td>\n",
       "      <td>Engineering</td>\n",
       "      <td>3.07</td>\n",
       "    </tr>\n",
       "    <tr>\n",
       "      <th>5</th>\n",
       "      <td>STU006</td>\n",
       "      <td>MATH205</td>\n",
       "      <td>Spring2024</td>\n",
       "      <td>3.2</td>\n",
       "      <td>Calculus II</td>\n",
       "      <td>4</td>\n",
       "      <td>Mathematics</td>\n",
       "      <td>Frank</td>\n",
       "      <td>Statistics</td>\n",
       "      <td>3.97</td>\n",
       "    </tr>\n",
       "    <tr>\n",
       "      <th>6</th>\n",
       "      <td>STU007</td>\n",
       "      <td>CS101</td>\n",
       "      <td>Spring2024</td>\n",
       "      <td>3.6</td>\n",
       "      <td>Programming</td>\n",
       "      <td>3</td>\n",
       "      <td>Computer Science</td>\n",
       "      <td>Grace</td>\n",
       "      <td>Statistics</td>\n",
       "      <td>3.20</td>\n",
       "    </tr>\n",
       "    <tr>\n",
       "      <th>7</th>\n",
       "      <td>STU008</td>\n",
       "      <td>STAT301</td>\n",
       "      <td>Spring2024</td>\n",
       "      <td>3.4</td>\n",
       "      <td>Statistics</td>\n",
       "      <td>3</td>\n",
       "      <td>Statistics</td>\n",
       "      <td>Henry</td>\n",
       "      <td>Engineering</td>\n",
       "      <td>3.79</td>\n",
       "    </tr>\n",
       "    <tr>\n",
       "      <th>8</th>\n",
       "      <td>STU009</td>\n",
       "      <td>MATH205</td>\n",
       "      <td>Spring2024</td>\n",
       "      <td>3.1</td>\n",
       "      <td>Calculus II</td>\n",
       "      <td>4</td>\n",
       "      <td>Mathematics</td>\n",
       "      <td>Ivy</td>\n",
       "      <td>Mathematics</td>\n",
       "      <td>3.52</td>\n",
       "    </tr>\n",
       "    <tr>\n",
       "      <th>9</th>\n",
       "      <td>STU010</td>\n",
       "      <td>CS101</td>\n",
       "      <td>Spring2024</td>\n",
       "      <td>3.9</td>\n",
       "      <td>Programming</td>\n",
       "      <td>3</td>\n",
       "      <td>Computer Science</td>\n",
       "      <td>Jack</td>\n",
       "      <td>Mathematics</td>\n",
       "      <td>3.18</td>\n",
       "    </tr>\n",
       "  </tbody>\n",
       "</table>\n",
       "</div>"
      ],
      "text/plain": [
       "  student_id course_code    semester  grade  course_name  credits  \\\n",
       "0     STU001     STAT301    Fall2024    3.7   Statistics        3   \n",
       "1     STU002     MATH205    Fall2024    3.3  Calculus II        4   \n",
       "2     STU003     STAT301    Fall2024    3.9   Statistics        3   \n",
       "3     STU004       CS101    Fall2024    3.5  Programming        3   \n",
       "4     STU005     STAT301    Fall2024    3.8   Statistics        3   \n",
       "5     STU006     MATH205  Spring2024    3.2  Calculus II        4   \n",
       "6     STU007       CS101  Spring2024    3.6  Programming        3   \n",
       "7     STU008     STAT301  Spring2024    3.4   Statistics        3   \n",
       "8     STU009     MATH205  Spring2024    3.1  Calculus II        4   \n",
       "9     STU010       CS101  Spring2024    3.9  Programming        3   \n",
       "\n",
       "         department     name        major   gpa  \n",
       "0        Statistics    Alice  Mathematics  3.96  \n",
       "1       Mathematics      Bob  Mathematics  2.85  \n",
       "2        Statistics  Charlie  Mathematics  2.64  \n",
       "3  Computer Science    Diana  Engineering  3.43  \n",
       "4        Statistics      Eve  Engineering  3.07  \n",
       "5       Mathematics    Frank   Statistics  3.97  \n",
       "6  Computer Science    Grace   Statistics  3.20  \n",
       "7        Statistics    Henry  Engineering  3.79  \n",
       "8       Mathematics      Ivy  Mathematics  3.52  \n",
       "9  Computer Science     Jack  Mathematics  3.18  "
      ]
     },
     "execution_count": 33,
     "metadata": {},
     "output_type": "execute_result"
    }
   ],
   "source": [
    "# Merge with student data\n",
    "print(\"\\n=== Merging Multiple DataFrames ===\")\n",
    "student_courses = pd.merge(\n",
    "    pd.merge(course_enrollment, course_info, on='course_code', how='inner'),\n",
    "    df_students[['student_id', 'name', 'major', 'gpa']],\n",
    "    on='student_id',\n",
    "    how='inner'\n",
    ")\n",
    "\n",
    "print(\"Complete student course information:\")\n",
    "student_courses.head(10)    # you can also use print(student_courses.head(10))\n"
   ]
  },
  {
   "cell_type": "markdown",
   "id": "5fac3b7a",
   "metadata": {},
   "source": [
    "### 2.4. Tạo biến mới\n",
    "\n",
    "Trong quá trình phân tích dữ liệu, đôi khi ta cần tạo ra các biến mới dựa trên các biến hiện có để phục vụ cho việc phân tích. Ví dụ, ta có thể muốn tạo ra một biến mới để phân loại sinh viên dựa trên điểm trung bình của họ."
   ]
  },
  {
   "cell_type": "code",
   "execution_count": 34,
   "id": "4d288031",
   "metadata": {},
   "outputs": [
    {
     "name": "stdout",
     "output_type": "stream",
     "text": [
      "\n",
      "--- Creating New Variables ---\n",
      "Dataset with performance indicators:\n"
     ]
    },
    {
     "data": {
      "text/html": [
       "<div>\n",
       "<style scoped>\n",
       "    .dataframe tbody tr th:only-of-type {\n",
       "        vertical-align: middle;\n",
       "    }\n",
       "\n",
       "    .dataframe tbody tr th {\n",
       "        vertical-align: top;\n",
       "    }\n",
       "\n",
       "    .dataframe thead th {\n",
       "        text-align: right;\n",
       "    }\n",
       "</style>\n",
       "<table border=\"1\" class=\"dataframe\">\n",
       "  <thead>\n",
       "    <tr style=\"text-align: right;\">\n",
       "      <th></th>\n",
       "      <th>name</th>\n",
       "      <th>course_name</th>\n",
       "      <th>gpa</th>\n",
       "      <th>grade</th>\n",
       "      <th>performance_diff</th>\n",
       "      <th>performance_category</th>\n",
       "    </tr>\n",
       "  </thead>\n",
       "  <tbody>\n",
       "    <tr>\n",
       "      <th>0</th>\n",
       "      <td>Alice</td>\n",
       "      <td>Statistics</td>\n",
       "      <td>3.96</td>\n",
       "      <td>3.7</td>\n",
       "      <td>-0.26</td>\n",
       "      <td>As Expected</td>\n",
       "    </tr>\n",
       "    <tr>\n",
       "      <th>1</th>\n",
       "      <td>Bob</td>\n",
       "      <td>Calculus II</td>\n",
       "      <td>2.85</td>\n",
       "      <td>3.3</td>\n",
       "      <td>0.45</td>\n",
       "      <td>Above Expected</td>\n",
       "    </tr>\n",
       "    <tr>\n",
       "      <th>2</th>\n",
       "      <td>Charlie</td>\n",
       "      <td>Statistics</td>\n",
       "      <td>2.64</td>\n",
       "      <td>3.9</td>\n",
       "      <td>1.26</td>\n",
       "      <td>Above Expected</td>\n",
       "    </tr>\n",
       "    <tr>\n",
       "      <th>3</th>\n",
       "      <td>Diana</td>\n",
       "      <td>Programming</td>\n",
       "      <td>3.43</td>\n",
       "      <td>3.5</td>\n",
       "      <td>0.07</td>\n",
       "      <td>As Expected</td>\n",
       "    </tr>\n",
       "    <tr>\n",
       "      <th>4</th>\n",
       "      <td>Eve</td>\n",
       "      <td>Statistics</td>\n",
       "      <td>3.07</td>\n",
       "      <td>3.8</td>\n",
       "      <td>0.73</td>\n",
       "      <td>Above Expected</td>\n",
       "    </tr>\n",
       "  </tbody>\n",
       "</table>\n",
       "</div>"
      ],
      "text/plain": [
       "      name  course_name   gpa  grade  performance_diff performance_category\n",
       "0    Alice   Statistics  3.96    3.7             -0.26          As Expected\n",
       "1      Bob  Calculus II  2.85    3.3              0.45       Above Expected\n",
       "2  Charlie   Statistics  2.64    3.9              1.26       Above Expected\n",
       "3    Diana  Programming  3.43    3.5              0.07          As Expected\n",
       "4      Eve   Statistics  3.07    3.8              0.73       Above Expected"
      ]
     },
     "execution_count": 34,
     "metadata": {},
     "output_type": "execute_result"
    }
   ],
   "source": [
    "print(\"\\n--- Creating New Variables ---\")\n",
    "\n",
    "# Performance indicators\n",
    "student_courses['grade_above_gpa'] = student_courses['grade'] > student_courses['gpa']\n",
    "student_courses['performance_diff'] = student_courses['grade'] - student_courses['gpa']\n",
    "\n",
    "# Categorical variables based on performance\n",
    "student_courses['performance_category'] = pd.cut(\n",
    "    student_courses['performance_diff'],\n",
    "    bins=[-float('inf'), -0.3, 0.3, float('inf')],\n",
    "    labels=['Below Expected', 'As Expected', 'Above Expected']\n",
    ")\n",
    "\n",
    "print(\"Dataset with performance indicators:\")\n",
    "student_courses[['name', 'course_name', 'gpa', 'grade', 'performance_diff', 'performance_category']].head()"
   ]
  },
  {
   "cell_type": "markdown",
   "id": "7240295d",
   "metadata": {},
   "source": [
    "---\n",
    "\n",
    "## 3. TÓM TẮT DỮ LIỆU VÀ TRỰC QUAN HÓA\n",
    "\n",
    "### 3.1 Thống kê cơ bản\n",
    "\n",
    "Có thể dùng những hàm sau trong Pandas để tính các số liệu thống kê cơ bản:\n",
    "- `count()` đếm số lượng phần tử.\n",
    "- `value_counts()` đếm tần suất xuất hiện của giá trị.\n",
    "- `nunique()` đếm số lượng giá trị\n",
    "- `mean()` tính trung bình\n",
    "- `std()` tính độ lệch chuẩn\n",
    "- `max()` tính giá trị lớn nhất\n",
    "- `min()` tính giá trị nhỏ nhất\n",
    "- `describe()` tóm tắt các số liệu thống kê cơ bản\n",
    "\n",
    "Các hàm này có thể được áp dụng cho toàn bộ `DataFrame` hoặc cho từng cột riêng biệt (`Series`)."
   ]
  },
  {
   "cell_type": "code",
   "execution_count": null,
   "id": "dc9b6d68",
   "metadata": {},
   "outputs": [
    {
     "data": {
      "text/html": [
       "<div>\n",
       "<style scoped>\n",
       "    .dataframe tbody tr th:only-of-type {\n",
       "        vertical-align: middle;\n",
       "    }\n",
       "\n",
       "    .dataframe tbody tr th {\n",
       "        vertical-align: top;\n",
       "    }\n",
       "\n",
       "    .dataframe thead th {\n",
       "        text-align: right;\n",
       "    }\n",
       "</style>\n",
       "<table border=\"1\" class=\"dataframe\">\n",
       "  <thead>\n",
       "    <tr style=\"text-align: right;\">\n",
       "      <th></th>\n",
       "      <th>student_id</th>\n",
       "      <th>name</th>\n",
       "      <th>age</th>\n",
       "      <th>major</th>\n",
       "      <th>gpa</th>\n",
       "      <th>year</th>\n",
       "      <th>credits</th>\n",
       "      <th>gpa_category</th>\n",
       "      <th>is_senior</th>\n",
       "    </tr>\n",
       "  </thead>\n",
       "  <tbody>\n",
       "    <tr>\n",
       "      <th>count</th>\n",
       "      <td>20</td>\n",
       "      <td>20</td>\n",
       "      <td>20.000000</td>\n",
       "      <td>20</td>\n",
       "      <td>20.000000</td>\n",
       "      <td>20.00</td>\n",
       "      <td>20.000000</td>\n",
       "      <td>20</td>\n",
       "      <td>20</td>\n",
       "    </tr>\n",
       "    <tr>\n",
       "      <th>unique</th>\n",
       "      <td>20</td>\n",
       "      <td>20</td>\n",
       "      <td>NaN</td>\n",
       "      <td>4</td>\n",
       "      <td>NaN</td>\n",
       "      <td>NaN</td>\n",
       "      <td>NaN</td>\n",
       "      <td>3</td>\n",
       "      <td>2</td>\n",
       "    </tr>\n",
       "    <tr>\n",
       "      <th>top</th>\n",
       "      <td>STU001</td>\n",
       "      <td>Alice</td>\n",
       "      <td>NaN</td>\n",
       "      <td>Mathematics</td>\n",
       "      <td>NaN</td>\n",
       "      <td>NaN</td>\n",
       "      <td>NaN</td>\n",
       "      <td>Good</td>\n",
       "      <td>False</td>\n",
       "    </tr>\n",
       "    <tr>\n",
       "      <th>freq</th>\n",
       "      <td>1</td>\n",
       "      <td>1</td>\n",
       "      <td>NaN</td>\n",
       "      <td>6</td>\n",
       "      <td>NaN</td>\n",
       "      <td>NaN</td>\n",
       "      <td>NaN</td>\n",
       "      <td>7</td>\n",
       "      <td>13</td>\n",
       "    </tr>\n",
       "    <tr>\n",
       "      <th>mean</th>\n",
       "      <td>NaN</td>\n",
       "      <td>NaN</td>\n",
       "      <td>21.500000</td>\n",
       "      <td>NaN</td>\n",
       "      <td>3.268500</td>\n",
       "      <td>2.50</td>\n",
       "      <td>16.600000</td>\n",
       "      <td>NaN</td>\n",
       "      <td>NaN</td>\n",
       "    </tr>\n",
       "    <tr>\n",
       "      <th>std</th>\n",
       "      <td>NaN</td>\n",
       "      <td>NaN</td>\n",
       "      <td>1.670172</td>\n",
       "      <td>NaN</td>\n",
       "      <td>0.469235</td>\n",
       "      <td>1.00</td>\n",
       "      <td>2.112619</td>\n",
       "      <td>NaN</td>\n",
       "      <td>NaN</td>\n",
       "    </tr>\n",
       "    <tr>\n",
       "      <th>min</th>\n",
       "      <td>NaN</td>\n",
       "      <td>NaN</td>\n",
       "      <td>19.000000</td>\n",
       "      <td>NaN</td>\n",
       "      <td>2.520000</td>\n",
       "      <td>1.00</td>\n",
       "      <td>12.000000</td>\n",
       "      <td>NaN</td>\n",
       "      <td>NaN</td>\n",
       "    </tr>\n",
       "    <tr>\n",
       "      <th>25%</th>\n",
       "      <td>NaN</td>\n",
       "      <td>NaN</td>\n",
       "      <td>20.000000</td>\n",
       "      <td>NaN</td>\n",
       "      <td>2.857500</td>\n",
       "      <td>2.00</td>\n",
       "      <td>15.750000</td>\n",
       "      <td>NaN</td>\n",
       "      <td>NaN</td>\n",
       "    </tr>\n",
       "    <tr>\n",
       "      <th>50%</th>\n",
       "      <td>NaN</td>\n",
       "      <td>NaN</td>\n",
       "      <td>21.500000</td>\n",
       "      <td>NaN</td>\n",
       "      <td>3.270000</td>\n",
       "      <td>2.00</td>\n",
       "      <td>17.000000</td>\n",
       "      <td>NaN</td>\n",
       "      <td>NaN</td>\n",
       "    </tr>\n",
       "    <tr>\n",
       "      <th>75%</th>\n",
       "      <td>NaN</td>\n",
       "      <td>NaN</td>\n",
       "      <td>22.250000</td>\n",
       "      <td>NaN</td>\n",
       "      <td>3.577500</td>\n",
       "      <td>3.25</td>\n",
       "      <td>18.000000</td>\n",
       "      <td>NaN</td>\n",
       "      <td>NaN</td>\n",
       "    </tr>\n",
       "    <tr>\n",
       "      <th>max</th>\n",
       "      <td>NaN</td>\n",
       "      <td>NaN</td>\n",
       "      <td>24.000000</td>\n",
       "      <td>NaN</td>\n",
       "      <td>3.970000</td>\n",
       "      <td>4.00</td>\n",
       "      <td>19.000000</td>\n",
       "      <td>NaN</td>\n",
       "      <td>NaN</td>\n",
       "    </tr>\n",
       "  </tbody>\n",
       "</table>\n",
       "</div>"
      ],
      "text/plain": [
       "       student_id   name        age        major        gpa   year    credits  \\\n",
       "count          20     20  20.000000           20  20.000000  20.00  20.000000   \n",
       "unique         20     20        NaN            4        NaN    NaN        NaN   \n",
       "top        STU001  Alice        NaN  Mathematics        NaN    NaN        NaN   \n",
       "freq            1      1        NaN            6        NaN    NaN        NaN   \n",
       "mean          NaN    NaN  21.500000          NaN   3.268500   2.50  16.600000   \n",
       "std           NaN    NaN   1.670172          NaN   0.469235   1.00   2.112619   \n",
       "min           NaN    NaN  19.000000          NaN   2.520000   1.00  12.000000   \n",
       "25%           NaN    NaN  20.000000          NaN   2.857500   2.00  15.750000   \n",
       "50%           NaN    NaN  21.500000          NaN   3.270000   2.00  17.000000   \n",
       "75%           NaN    NaN  22.250000          NaN   3.577500   3.25  18.000000   \n",
       "max           NaN    NaN  24.000000          NaN   3.970000   4.00  19.000000   \n",
       "\n",
       "       gpa_category is_senior  \n",
       "count            20        20  \n",
       "unique            3         2  \n",
       "top            Good     False  \n",
       "freq              7        13  \n",
       "mean            NaN       NaN  \n",
       "std             NaN       NaN  \n",
       "min             NaN       NaN  \n",
       "25%             NaN       NaN  \n",
       "50%             NaN       NaN  \n",
       "75%             NaN       NaN  \n",
       "max             NaN       NaN  "
      ]
     },
     "metadata": {},
     "output_type": "display_data"
    }
   ],
   "source": [
    "# Statistical summaries for all variables\n",
    "df_students.describe(include='all')"
   ]
  },
  {
   "cell_type": "code",
   "execution_count": null,
   "id": "180967df",
   "metadata": {},
   "outputs": [
    {
     "data": {
      "text/html": [
       "<div>\n",
       "<style scoped>\n",
       "    .dataframe tbody tr th:only-of-type {\n",
       "        vertical-align: middle;\n",
       "    }\n",
       "\n",
       "    .dataframe tbody tr th {\n",
       "        vertical-align: top;\n",
       "    }\n",
       "\n",
       "    .dataframe thead th {\n",
       "        text-align: right;\n",
       "    }\n",
       "</style>\n",
       "<table border=\"1\" class=\"dataframe\">\n",
       "  <thead>\n",
       "    <tr style=\"text-align: right;\">\n",
       "      <th></th>\n",
       "      <th>age</th>\n",
       "      <th>gpa</th>\n",
       "      <th>year</th>\n",
       "      <th>credits</th>\n",
       "    </tr>\n",
       "  </thead>\n",
       "  <tbody>\n",
       "    <tr>\n",
       "      <th>count</th>\n",
       "      <td>20.000000</td>\n",
       "      <td>20.000000</td>\n",
       "      <td>20.00</td>\n",
       "      <td>20.000000</td>\n",
       "    </tr>\n",
       "    <tr>\n",
       "      <th>mean</th>\n",
       "      <td>21.500000</td>\n",
       "      <td>3.268500</td>\n",
       "      <td>2.50</td>\n",
       "      <td>16.600000</td>\n",
       "    </tr>\n",
       "    <tr>\n",
       "      <th>std</th>\n",
       "      <td>1.670172</td>\n",
       "      <td>0.469235</td>\n",
       "      <td>1.00</td>\n",
       "      <td>2.112619</td>\n",
       "    </tr>\n",
       "    <tr>\n",
       "      <th>min</th>\n",
       "      <td>19.000000</td>\n",
       "      <td>2.520000</td>\n",
       "      <td>1.00</td>\n",
       "      <td>12.000000</td>\n",
       "    </tr>\n",
       "    <tr>\n",
       "      <th>25%</th>\n",
       "      <td>20.000000</td>\n",
       "      <td>2.857500</td>\n",
       "      <td>2.00</td>\n",
       "      <td>15.750000</td>\n",
       "    </tr>\n",
       "    <tr>\n",
       "      <th>50%</th>\n",
       "      <td>21.500000</td>\n",
       "      <td>3.270000</td>\n",
       "      <td>2.00</td>\n",
       "      <td>17.000000</td>\n",
       "    </tr>\n",
       "    <tr>\n",
       "      <th>75%</th>\n",
       "      <td>22.250000</td>\n",
       "      <td>3.577500</td>\n",
       "      <td>3.25</td>\n",
       "      <td>18.000000</td>\n",
       "    </tr>\n",
       "    <tr>\n",
       "      <th>max</th>\n",
       "      <td>24.000000</td>\n",
       "      <td>3.970000</td>\n",
       "      <td>4.00</td>\n",
       "      <td>19.000000</td>\n",
       "    </tr>\n",
       "  </tbody>\n",
       "</table>\n",
       "</div>"
      ],
      "text/plain": [
       "             age        gpa   year    credits\n",
       "count  20.000000  20.000000  20.00  20.000000\n",
       "mean   21.500000   3.268500   2.50  16.600000\n",
       "std     1.670172   0.469235   1.00   2.112619\n",
       "min    19.000000   2.520000   1.00  12.000000\n",
       "25%    20.000000   2.857500   2.00  15.750000\n",
       "50%    21.500000   3.270000   2.00  17.000000\n",
       "75%    22.250000   3.577500   3.25  18.000000\n",
       "max    24.000000   3.970000   4.00  19.000000"
      ]
     },
     "metadata": {},
     "output_type": "display_data"
    }
   ],
   "source": [
    "# Comprehensive statistics for numerical columns\n",
    "df_students.describe()"
   ]
  },
  {
   "cell_type": "code",
   "execution_count": null,
   "id": "f5386e07",
   "metadata": {},
   "outputs": [
    {
     "name": "stdout",
     "output_type": "stream",
     "text": [
      "GPA trung bình:  3.27\n"
     ]
    }
   ],
   "source": [
    "print(f'GPA trung bình: ', df_students['gpa'].mean().round(2))"
   ]
  },
  {
   "cell_type": "code",
   "execution_count": null,
   "id": "4f2b03bd",
   "metadata": {},
   "outputs": [
    {
     "name": "stdout",
     "output_type": "stream",
     "text": [
      "Số sinh viên theo năm: \n"
     ]
    },
    {
     "data": {
      "text/plain": [
       "year\n",
       "2    11\n",
       "4     5\n",
       "3     2\n",
       "1     2\n",
       "Name: count, dtype: int64"
      ]
     },
     "metadata": {},
     "output_type": "display_data"
    }
   ],
   "source": [
    "print(f'Số sinh viên theo năm: ')\n",
    "df_students['year'].value_counts()"
   ]
  },
  {
   "cell_type": "code",
   "execution_count": null,
   "id": "f96a2dad",
   "metadata": {},
   "outputs": [
    {
     "name": "stdout",
     "output_type": "stream",
     "text": [
      "Đếm số lượng giá trị không null trong mỗi cột:\n"
     ]
    },
    {
     "data": {
      "text/plain": [
       "student_id      20\n",
       "name            20\n",
       "age             20\n",
       "major           20\n",
       "gpa             20\n",
       "year            20\n",
       "credits         20\n",
       "gpa_category    20\n",
       "is_senior       20\n",
       "dtype: int64"
      ]
     },
     "metadata": {},
     "output_type": "display_data"
    }
   ],
   "source": [
    "print('Đếm số lượng giá trị không null trong mỗi cột:')\n",
    "df_students.count()"
   ]
  },
  {
   "cell_type": "markdown",
   "id": "88fe8b62",
   "metadata": {},
   "source": [
    "Nếu muốn tính các thống kê cho một cột cụ thể, ta có thể kết hợp lại như ví dụ dưới đây:\n"
   ]
  },
  {
   "cell_type": "code",
   "execution_count": 10,
   "id": "b59f402b",
   "metadata": {},
   "outputs": [
    {
     "data": {
      "text/html": [
       "<div>\n",
       "<style scoped>\n",
       "    .dataframe tbody tr th:only-of-type {\n",
       "        vertical-align: middle;\n",
       "    }\n",
       "\n",
       "    .dataframe tbody tr th {\n",
       "        vertical-align: top;\n",
       "    }\n",
       "\n",
       "    .dataframe thead th {\n",
       "        text-align: right;\n",
       "    }\n",
       "</style>\n",
       "<table border=\"1\" class=\"dataframe\">\n",
       "  <thead>\n",
       "    <tr style=\"text-align: right;\">\n",
       "      <th></th>\n",
       "      <th>student_id</th>\n",
       "      <th>name</th>\n",
       "      <th>age</th>\n",
       "      <th>major</th>\n",
       "      <th>gpa</th>\n",
       "      <th>year</th>\n",
       "      <th>credits</th>\n",
       "    </tr>\n",
       "  </thead>\n",
       "  <tbody>\n",
       "    <tr>\n",
       "      <th>0</th>\n",
       "      <td>STU001</td>\n",
       "      <td>Alice</td>\n",
       "      <td>24</td>\n",
       "      <td>Mathematics</td>\n",
       "      <td>3.96</td>\n",
       "      <td>3</td>\n",
       "      <td>13</td>\n",
       "    </tr>\n",
       "    <tr>\n",
       "      <th>1</th>\n",
       "      <td>STU002</td>\n",
       "      <td>Bob</td>\n",
       "      <td>21</td>\n",
       "      <td>Mathematics</td>\n",
       "      <td>2.85</td>\n",
       "      <td>2</td>\n",
       "      <td>17</td>\n",
       "    </tr>\n",
       "    <tr>\n",
       "      <th>2</th>\n",
       "      <td>STU003</td>\n",
       "      <td>Charlie</td>\n",
       "      <td>22</td>\n",
       "      <td>Mathematics</td>\n",
       "      <td>2.64</td>\n",
       "      <td>1</td>\n",
       "      <td>15</td>\n",
       "    </tr>\n",
       "    <tr>\n",
       "      <th>3</th>\n",
       "      <td>STU004</td>\n",
       "      <td>Diana</td>\n",
       "      <td>24</td>\n",
       "      <td>Engineering</td>\n",
       "      <td>3.43</td>\n",
       "      <td>4</td>\n",
       "      <td>17</td>\n",
       "    </tr>\n",
       "    <tr>\n",
       "      <th>4</th>\n",
       "      <td>STU005</td>\n",
       "      <td>Eve</td>\n",
       "      <td>20</td>\n",
       "      <td>Engineering</td>\n",
       "      <td>3.07</td>\n",
       "      <td>2</td>\n",
       "      <td>18</td>\n",
       "    </tr>\n",
       "  </tbody>\n",
       "</table>\n",
       "</div>"
      ],
      "text/plain": [
       "  student_id     name  age        major   gpa  year  credits\n",
       "0     STU001    Alice   24  Mathematics  3.96     3       13\n",
       "1     STU002      Bob   21  Mathematics  2.85     2       17\n",
       "2     STU003  Charlie   22  Mathematics  2.64     1       15\n",
       "3     STU004    Diana   24  Engineering  3.43     4       17\n",
       "4     STU005      Eve   20  Engineering  3.07     2       18"
      ]
     },
     "execution_count": 10,
     "metadata": {},
     "output_type": "execute_result"
    }
   ],
   "source": [
    "df_students.head()"
   ]
  },
  {
   "cell_type": "code",
   "execution_count": 12,
   "id": "192310a9",
   "metadata": {},
   "outputs": [
    {
     "name": "stdout",
     "output_type": "stream",
     "text": [
      "=== Complete Statistical Summary ===\n",
      "             age        gpa    credits\n",
      "count  20.000000  20.000000  20.000000\n",
      "mean   21.500000   3.268500  16.600000\n",
      "std     1.670172   0.469235   2.112619\n",
      "min    19.000000   2.520000  12.000000\n",
      "25%    20.000000   2.857500  15.750000\n",
      "50%    21.500000   3.270000  17.000000\n",
      "75%    22.250000   3.577500  18.000000\n",
      "max    24.000000   3.970000  19.000000\n",
      "\n",
      "=== GPA Statistical Measures ===\n",
      "Count       20.000\n",
      "Mean         3.269\n",
      "Median       3.270\n",
      "Mode         2.520\n",
      "Std Dev      0.469\n",
      "Variance     0.220\n",
      "Range        1.450\n",
      "IQR          0.720\n",
      "CV (%)      14.356\n",
      "Min          2.520\n",
      "Max          3.970\n",
      "Name: GPA Statistics, dtype: float64\n"
     ]
    }
   ],
   "source": [
    "# Comprehensive statistics for numerical columns\n",
    "print(\"=== Complete Statistical Summary ===\")\n",
    "numerical_summary = df_students[['age', 'gpa', 'credits']].describe()\n",
    "print(numerical_summary)\n",
    "\n",
    "# Additional statistical measures from our lecture\n",
    "print(\"\\n=== GPA Statistical Measures ===\")\n",
    "\n",
    "def comprehensive_stats(series, name):\n",
    "    \"\"\"Calculate comprehensive statistics for a series\"\"\"\n",
    "    # from scipy import stats\n",
    "    \n",
    "    stats_dict = {\n",
    "        'Count': len(series),\n",
    "        'Mean': series.mean(),\n",
    "        'Median': series.median(),\n",
    "        'Mode': series.mode().iloc[0] if len(series.mode()) > 0 else 'No mode',\n",
    "        'Std Dev': series.std(),\n",
    "        'Variance': series.var(),\n",
    "        'Range': series.max() - series.min(),\n",
    "        'IQR': series.quantile(0.75) - series.quantile(0.25),\n",
    "        'CV (%)': (series.std() / series.mean()) * 100,\n",
    "        'Min': series.min(),\n",
    "        'Max': series.max()\n",
    "    }\n",
    "    \n",
    "    return pd.Series(stats_dict, name=name)\n",
    "\n",
    "# Calculate for GPA\n",
    "gpa_stats = comprehensive_stats(df_students['gpa'], 'GPA Statistics')\n",
    "print(gpa_stats.round(3))"
   ]
  },
  {
   "cell_type": "markdown",
   "id": "5ca6e75f",
   "metadata": {},
   "source": [
    "Để tính trung bình hình học (`geometric mean`), chúng ta có thể sử dụng hàm `gmean` từ thư viện `scipy.stats`. Trung bình hình học thường được sử dụng trong các tình huống như tính toán lợi nhuận đầu tư, nơi các giá trị được nhân với nhau thay vì cộng lại."
   ]
  },
  {
   "cell_type": "code",
   "execution_count": 13,
   "id": "f7715b60",
   "metadata": {},
   "outputs": [
    {
     "name": "stdout",
     "output_type": "stream",
     "text": [
      "\n",
      "=== Geometric Mean Example ===\n",
      "Investment growth factors: [1.1  0.95 1.15 1.05 0.92 1.08 1.12]\n",
      "Arithmetic mean: 1.0529 (5.29% per period)\n",
      "Geometric mean: 1.0497 (4.97% per period)\n",
      "Compound annual growth rate: 4.97%\n"
     ]
    }
   ],
   "source": [
    "from scipy import stats\n",
    "\n",
    "# Demonstrate geometric mean calculation\n",
    "print(\"\\n=== Geometric Mean Example ===\")\n",
    "\n",
    "# Simulate investment returns\n",
    "returns = np.array([1.10, 0.95, 1.15, 1.05, 0.92, 1.08, 1.12])  # Growth factors\n",
    "arithmetic_mean = returns.mean()\n",
    "geometric_mean = stats.gmean(returns)\n",
    "\n",
    "print(f\"Investment growth factors: {returns}\")\n",
    "print(f\"Arithmetic mean: {arithmetic_mean:.4f} ({(arithmetic_mean-1)*100:.2f}% per period)\")\n",
    "print(f\"Geometric mean: {geometric_mean:.4f} ({(geometric_mean-1)*100:.2f}% per period)\")\n",
    "print(f\"Compound annual growth rate: {(geometric_mean-1)*100:.2f}%\")\n",
    "\n"
   ]
  },
  {
   "cell_type": "markdown",
   "id": "64817daf",
   "metadata": {},
   "source": [
    "### 3.2. Trực quan hóa dữ liệu với Seaborn\n",
    "\n",
    "Seaborn là một thư viện trực quan hóa dữ liệu được xây dựng dựa trên Matplotlib, cung cấp các chức năng để tạo ra các biểu đồ thống kê hấp dẫn và dễ hiểu. Seaborn tích hợp chặt chẽ với Pandas, cho phép bạn trực tiếp sử dụng DataFrame để tạo biểu đồ một cách dễ dàng\n",
    "\n",
    "Trước hết, chúng ta cần tải thư viện `Seaborn` và `Matplotlib`trước."
   ]
  },
  {
   "cell_type": "code",
   "execution_count": 26,
   "id": "489ec576",
   "metadata": {},
   "outputs": [
    {
     "name": "stdout",
     "output_type": "stream",
     "text": [
      "\n",
      "============================================================\n",
      "=== Part 3: Summary Statistics and Seaborn Introduction ===\n"
     ]
    }
   ],
   "source": [
    "print(\"\\n\" + \"=\"*60)\n",
    "print(\"=== Part 3: Summary Statistics and Seaborn Introduction ===\")\n",
    "\n",
    "import seaborn as sns\n",
    "import matplotlib.pyplot as plt\n",
    "\n",
    "\n",
    "# Set plotting style\n",
    "sns.set_style(\"whitegrid\")\n",
    "plt.rcParams['figure.figsize'] = (10, 6)"
   ]
  },
  {
   "cell_type": "markdown",
   "id": "68fb194f",
   "metadata": {},
   "source": [
    "Seaborn có sẵn rất nhiều bộ dữ liệu mẫu (built-in datasets) để bạn có thể thực hành và thử nghiệm các biểu đồ. Trong tài liệu nay, chúng ta sẽ hiểu bộ dữ liệu `tips`, chứa thông tin về tiền boa trong các nhà hàng."
   ]
  },
  {
   "cell_type": "code",
   "execution_count": 28,
   "id": "6959eb2b",
   "metadata": {},
   "outputs": [
    {
     "name": "stdout",
     "output_type": "stream",
     "text": [
      "\n",
      "--- Introduction to Seaborn with Built-in Datasets ---\n",
      "=== Working with Seaborn Built-in Datasets ===\n",
      "Available Seaborn datasets:\n",
      "['anagrams', 'anscombe', 'attention', 'brain_networks', 'car_crashes', 'diamonds', 'dots', 'dowjones', 'exercise', 'flights', 'fmri', 'geyser', 'glue', 'healthexp', 'iris', 'mpg', 'penguins', 'planets', 'seaice', 'taxis', 'tips', 'titanic']\n"
     ]
    }
   ],
   "source": [
    "print(\"\\n--- Introduction to Seaborn with Built-in Datasets ---\")\n",
    "\n",
    "# Load a built-in Seaborn dataset\n",
    "print(\"=== Working with Seaborn Built-in Datasets ===\")\n",
    "\n",
    "# Available datasets\n",
    "print(\"Available Seaborn datasets:\")\n",
    "print(sns.get_dataset_names())\n"
   ]
  },
  {
   "cell_type": "markdown",
   "id": "488d5ff7",
   "metadata": {},
   "source": [
    "**Dữ liệu `tips`** chứa thông tin tiền boa của khách hàng tại một nhà hàng. Dữ liệu có các thông tin sau:\n",
    "\n",
    "- `total_bill`: tổng hoá đơn (USD)\n",
    "- `tip`: tiền tip/ tiền boa (USD)\n",
    "- `sex`: giới tính người thanh toán hóa đơn\n",
    "- `smoker`: có hút thuốc hay không\n",
    "- `day`: ngày trong tuần\n",
    "- `time`: thời gian dùng bữa(buổi sáng, buổi trưa, buổi tối)\n",
    "- `size`: số lượng người tham gia\n",
    "\n",
    "Trước tiên, ta sẽ tải bộ dữ liệu `tips` và khám phá dữ liệu."
   ]
  },
  {
   "cell_type": "code",
   "execution_count": 31,
   "id": "9852ad8e",
   "metadata": {},
   "outputs": [
    {
     "name": "stdout",
     "output_type": "stream",
     "text": [
      "\n",
      "Tips dataset shape: (244, 7)\n",
      "First few rows:\n"
     ]
    },
    {
     "data": {
      "text/html": [
       "<div>\n",
       "<style scoped>\n",
       "    .dataframe tbody tr th:only-of-type {\n",
       "        vertical-align: middle;\n",
       "    }\n",
       "\n",
       "    .dataframe tbody tr th {\n",
       "        vertical-align: top;\n",
       "    }\n",
       "\n",
       "    .dataframe thead th {\n",
       "        text-align: right;\n",
       "    }\n",
       "</style>\n",
       "<table border=\"1\" class=\"dataframe\">\n",
       "  <thead>\n",
       "    <tr style=\"text-align: right;\">\n",
       "      <th></th>\n",
       "      <th>total_bill</th>\n",
       "      <th>tip</th>\n",
       "      <th>sex</th>\n",
       "      <th>smoker</th>\n",
       "      <th>day</th>\n",
       "      <th>time</th>\n",
       "      <th>size</th>\n",
       "    </tr>\n",
       "  </thead>\n",
       "  <tbody>\n",
       "    <tr>\n",
       "      <th>0</th>\n",
       "      <td>16.99</td>\n",
       "      <td>1.01</td>\n",
       "      <td>Female</td>\n",
       "      <td>No</td>\n",
       "      <td>Sun</td>\n",
       "      <td>Dinner</td>\n",
       "      <td>2</td>\n",
       "    </tr>\n",
       "    <tr>\n",
       "      <th>1</th>\n",
       "      <td>10.34</td>\n",
       "      <td>1.66</td>\n",
       "      <td>Male</td>\n",
       "      <td>No</td>\n",
       "      <td>Sun</td>\n",
       "      <td>Dinner</td>\n",
       "      <td>3</td>\n",
       "    </tr>\n",
       "    <tr>\n",
       "      <th>2</th>\n",
       "      <td>21.01</td>\n",
       "      <td>3.50</td>\n",
       "      <td>Male</td>\n",
       "      <td>No</td>\n",
       "      <td>Sun</td>\n",
       "      <td>Dinner</td>\n",
       "      <td>3</td>\n",
       "    </tr>\n",
       "    <tr>\n",
       "      <th>3</th>\n",
       "      <td>23.68</td>\n",
       "      <td>3.31</td>\n",
       "      <td>Male</td>\n",
       "      <td>No</td>\n",
       "      <td>Sun</td>\n",
       "      <td>Dinner</td>\n",
       "      <td>2</td>\n",
       "    </tr>\n",
       "    <tr>\n",
       "      <th>4</th>\n",
       "      <td>24.59</td>\n",
       "      <td>3.61</td>\n",
       "      <td>Female</td>\n",
       "      <td>No</td>\n",
       "      <td>Sun</td>\n",
       "      <td>Dinner</td>\n",
       "      <td>4</td>\n",
       "    </tr>\n",
       "  </tbody>\n",
       "</table>\n",
       "</div>"
      ],
      "text/plain": [
       "   total_bill   tip     sex smoker  day    time  size\n",
       "0       16.99  1.01  Female     No  Sun  Dinner     2\n",
       "1       10.34  1.66    Male     No  Sun  Dinner     3\n",
       "2       21.01  3.50    Male     No  Sun  Dinner     3\n",
       "3       23.68  3.31    Male     No  Sun  Dinner     2\n",
       "4       24.59  3.61  Female     No  Sun  Dinner     4"
      ]
     },
     "execution_count": 31,
     "metadata": {},
     "output_type": "execute_result"
    }
   ],
   "source": [
    "# Load the tips dataset\n",
    "tips = sns.load_dataset('tips')\n",
    "print(f\"\\nTips dataset shape: {tips.shape}\")\n",
    "print(\"First few rows:\")\n",
    "tips.head()"
   ]
  },
  {
   "cell_type": "code",
   "execution_count": 32,
   "id": "53a4190d",
   "metadata": {},
   "outputs": [
    {
     "name": "stdout",
     "output_type": "stream",
     "text": [
      "\n",
      "Dataset info:\n",
      "<class 'pandas.core.frame.DataFrame'>\n",
      "RangeIndex: 244 entries, 0 to 243\n",
      "Data columns (total 7 columns):\n",
      " #   Column      Non-Null Count  Dtype   \n",
      "---  ------      --------------  -----   \n",
      " 0   total_bill  244 non-null    float64 \n",
      " 1   tip         244 non-null    float64 \n",
      " 2   sex         244 non-null    category\n",
      " 3   smoker      244 non-null    category\n",
      " 4   day         244 non-null    category\n",
      " 5   time        244 non-null    category\n",
      " 6   size        244 non-null    int64   \n",
      "dtypes: category(4), float64(2), int64(1)\n",
      "memory usage: 7.4 KB\n",
      "None\n",
      "\n",
      "Summary statistics:\n",
      "       total_bill         tip        size\n",
      "count  244.000000  244.000000  244.000000\n",
      "mean    19.785943    2.998279    2.569672\n",
      "std      8.902412    1.383638    0.951100\n",
      "min      3.070000    1.000000    1.000000\n",
      "25%     13.347500    2.000000    2.000000\n",
      "50%     17.795000    2.900000    2.000000\n",
      "75%     24.127500    3.562500    3.000000\n",
      "max     50.810000   10.000000    6.000000\n"
     ]
    }
   ],
   "source": [
    "print(\"\\nDataset info:\")\n",
    "print(tips.info())\n",
    "\n",
    "print(\"\\nSummary statistics:\")\n",
    "print(tips.describe())"
   ]
  },
  {
   "cell_type": "markdown",
   "id": "f0246b8b",
   "metadata": {},
   "source": [
    "#### 3.2.1 Vẽ một số biểu đồ cơ bản\n"
   ]
  },
  {
   "cell_type": "code",
   "execution_count": 40,
   "id": "37a37707",
   "metadata": {},
   "outputs": [
    {
     "name": "stdout",
     "output_type": "stream",
     "text": [
      "Histogram of total bill:\n"
     ]
    },
    {
     "data": {
      "image/png": "[encoded data removed]",
      "text/plain": [
       "<Figure size 1000x600 with 1 Axes>"
      ]
     },
     "metadata": {},
     "output_type": "display_data"
    }
   ],
   "source": [
    "print('Histogram of total bill:')\n",
    "sns.histplot(data=tips, x='total_bill', kde=True)\n",
    "\n",
    "plt.title('Distribution of Total Bill');"
   ]
  },
  {
   "cell_type": "code",
   "execution_count": 41,
   "id": "d651839c",
   "metadata": {},
   "outputs": [
    {
     "name": "stdout",
     "output_type": "stream",
     "text": [
      "Box plot of total bill by day:\n"
     ]
    },
    {
     "data": {
      "image/png": "[encoded data removed]",
      "text/plain": [
       "<Figure size 1000x600 with 1 Axes>"
      ]
     },
     "metadata": {},
     "output_type": "display_data"
    }
   ],
   "source": [
    "print('Box plot of total bill by day:')\n",
    "sns.boxplot(data=tips, x='day', y='total_bill')\n",
    "\n",
    "plt.title('Total Bill by Day');"
   ]
  },
  {
   "cell_type": "code",
   "execution_count": 42,
   "id": "36ec4407",
   "metadata": {},
   "outputs": [
    {
     "name": "stdout",
     "output_type": "stream",
     "text": [
      "Scatter plot of tip vs total bill colored by time:\n"
     ]
    },
    {
     "data": {
      "image/png": "[encoded data removed]",
      "text/plain": [
       "<Figure size 1000x600 with 1 Axes>"
      ]
     },
     "metadata": {},
     "output_type": "display_data"
    }
   ],
   "source": [
    "print('Scatter plot of tip vs total bill colored by time:')\n",
    "sns.scatterplot(data=tips, x='total_bill', y='tip', hue='time')\n",
    "\n",
    "plt.title('Tip vs Total Bill by Time');"
   ]
  },
  {
   "cell_type": "markdown",
   "id": "084cf5f9",
   "metadata": {},
   "source": [
    "#### 3.2.2 Trực quan hóa nâng cao với Seaborn\n",
    "\n",
    "Có thể vẽ nhiều đồ thị trên cùng một hình để so sánh. Dưới đây là một số ví dụ:"
   ]
  },
  {
   "cell_type": "code",
   "execution_count": 46,
   "id": "8eaed8c9",
   "metadata": {},
   "outputs": [
    {
     "name": "stdout",
     "output_type": "stream",
     "text": [
      "\n",
      "--- Statistical Plots with Seaborn ---\n"
     ]
    },
    {
     "data": {
      "image/png": "[encoded data removed]",
      "text/plain": [
       "<Figure size 1500x1000 with 7 Axes>"
      ]
     },
     "metadata": {},
     "output_type": "display_data"
    }
   ],
   "source": [
    "# 3.3 Statistical Plots with Seaborn\n",
    "print(\"\\n--- Statistical Plots with Seaborn ---\")\n",
    "\n",
    "# Create a figure with multiple subplots\n",
    "fig, axes = plt.subplots(2, 3, figsize=(15, 10))\n",
    "fig.suptitle('Statistical Visualizations with Seaborn', fontsize=16)\n",
    "\n",
    "# 1. Histogram\n",
    "sns.histplot(data=tips, x='total_bill', kde=True, ax=axes[0, 0])\n",
    "axes[0, 0].set_title('Distribution of Total Bill')\n",
    "\n",
    "# 2. Box plot\n",
    "sns.boxplot(data=tips, x='day', y='total_bill', ax=axes[0, 1])\n",
    "axes[0, 1].set_title('Total Bill by Day')\n",
    "\n",
    "# 3. Scatter plot\n",
    "sns.scatterplot(data=tips, x='total_bill', y='tip', hue='time', ax=axes[0, 2])\n",
    "axes[0, 2].set_title('Tip vs Total Bill by Time')\n",
    "\n",
    "# 4. Violin plot\n",
    "sns.violinplot(data=tips, x='day', y='tip', ax=axes[1, 0])\n",
    "axes[1, 0].set_title('Tip Distribution by Day')\n",
    "\n",
    "# 5. Count plot\n",
    "sns.countplot(data=tips, x='day', hue='sex', ax=axes[1, 1])\n",
    "axes[1, 1].set_title('Count of Customers by Day and Gender')\n",
    "\n",
    "# 6. Heatmap of correlations\n",
    "numeric_tips = tips.select_dtypes(include=[np.number])\n",
    "correlation_matrix = numeric_tips.corr()\n",
    "sns.heatmap(correlation_matrix, annot=True, cmap='coolwarm', center=0, ax=axes[1, 2])\n",
    "axes[1, 2].set_title('Correlation Matrix')\n",
    "\n",
    "plt.tight_layout()\n",
    "plt.show();\n",
    "\n"
   ]
  },
  {
   "cell_type": "code",
   "execution_count": 53,
   "id": "0ad63168",
   "metadata": {},
   "outputs": [
    {
     "name": "stdout",
     "output_type": "stream",
     "text": [
      "=== Pair Plot for Relationship Exploration ===\n"
     ]
    },
    {
     "data": {
      "text/plain": [
       "<Figure size 1000x800 with 0 Axes>"
      ]
     },
     "metadata": {},
     "output_type": "display_data"
    },
    {
     "data": {
      "image/png": "[encoded data removed]",
      "text/plain": [
       "<Figure size 846.25x750 with 12 Axes>"
      ]
     },
     "metadata": {},
     "output_type": "display_data"
    }
   ],
   "source": [
    "# Pair plot for exploring relationships\n",
    "print(\"=== Pair Plot for Relationship Exploration ===\")\n",
    "plt.figure(figsize=(10, 8))\n",
    "sns.pairplot(tips, hue='sex', diag_kind='kde')\n",
    "plt.suptitle('Pairplot of Tips Dataset', y=1.02)\n",
    "plt.show();\n"
   ]
  },
  {
   "cell_type": "code",
   "execution_count": 54,
   "id": "b71ec341",
   "metadata": {},
   "outputs": [
    {
     "name": "stdout",
     "output_type": "stream",
     "text": [
      "\n",
      "=== Distribution Comparisons ===\n"
     ]
    },
    {
     "data": {
      "image/png": "[encoded data removed]",
      "text/plain": [
       "<Figure size 1200x500 with 2 Axes>"
      ]
     },
     "metadata": {},
     "output_type": "display_data"
    }
   ],
   "source": [
    "# Distribution comparison\n",
    "print(\"\\n=== Distribution Comparisons ===\")\n",
    "fig, axes = plt.subplots(1, 2, figsize=(12, 5))\n",
    "\n",
    "# Compare tip distributions by day\n",
    "sns.boxplot(data=tips, x='day', y='tip', ax=axes[0])\n",
    "sns.stripplot(data=tips, x='day', y='tip', color='black', alpha=0.5, ax=axes[0])\n",
    "axes[0].set_title('Tip Distribution by Day (Box + Strip Plot)')\n",
    "\n",
    "# Compare bill distributions by time and smoker status\n",
    "sns.violinplot(data=tips, x='time', y='total_bill', hue='smoker', split=True, ax=axes[1])\n",
    "axes[1].set_title('Total Bill Distribution by Time and Smoker Status')\n",
    "\n",
    "plt.tight_layout()\n",
    "plt.show();\n",
    "\n"
   ]
  },
  {
   "cell_type": "markdown",
   "id": "8f6696dd",
   "metadata": {},
   "source": [
    "## 4. LUYỆN TẬP"
   ]
  },
  {
   "cell_type": "markdown",
   "id": "756ae72a",
   "metadata": {},
   "source": [
    "Thông tin các bộ dữ liệu:\n",
    "\n",
    "- `car-sales.csv`: bộ dữ liệu chứa thông tin của các ôtô cũ ở một cửa hàng\n"
   ]
  },
  {
   "cell_type": "markdown",
   "id": "d275c8e9",
   "metadata": {},
   "source": [
    "### 1. Đọc dữ liệu"
   ]
  },
  {
   "cell_type": "code",
   "execution_count": null,
   "id": "7d01ae3f",
   "metadata": {},
   "outputs": [],
   "source": [
    "# YOUR CODE HERE"
   ]
  },
  {
   "cell_type": "markdown",
   "id": "f7b5caa3",
   "metadata": {},
   "source": [
    "### 2. Dữ liệu có bao nhiêu dòng, bao nhiêu cột\n",
    "\n",
    "Đáp án: (10 dòng, 5 cột)"
   ]
  },
  {
   "cell_type": "code",
   "execution_count": null,
   "id": "0720b224",
   "metadata": {},
   "outputs": [],
   "source": [
    "# YOUR CODE HERE"
   ]
  },
  {
   "cell_type": "markdown",
   "id": "4ceab166",
   "metadata": {},
   "source": [
    "### 3. Theo bạn  thuộc tính nào là thuộc tính định tính, thuộc tính nào là thuộc tính định lượng?\n",
    "\n",
    "_(không cần viết code)_"
   ]
  },
  {
   "cell_type": "markdown",
   "id": "cb05829e",
   "metadata": {},
   "source": [
    "***Your answer here:***"
   ]
  },
  {
   "cell_type": "markdown",
   "id": "fdaa566f",
   "metadata": {},
   "source": [
    "### 4. Trong dữ liệu có thông tin của bao nhiêu xe?\n",
    "\n",
    "Đáp án: 10 xe"
   ]
  },
  {
   "cell_type": "code",
   "execution_count": null,
   "id": "3a9443fe",
   "metadata": {},
   "outputs": [],
   "source": [
    "# YOUR CODE HERE"
   ]
  },
  {
   "cell_type": "markdown",
   "id": "9eb76f7a",
   "metadata": {},
   "source": [
    "### 5. Đếm số xe theo theo hãng\n",
    "\n",
    "Đáp án: Toyota: 10 xe, Honda: 3 xe, Nissan: 2 xe, BMW: 1 xe"
   ]
  },
  {
   "cell_type": "code",
   "execution_count": null,
   "id": "581a53e7",
   "metadata": {},
   "outputs": [],
   "source": [
    "# YOUR CODE HERE"
   ]
  },
  {
   "cell_type": "markdown",
   "id": "9dca0ebc",
   "metadata": {},
   "source": [
    "### 6. Đếm số xe theo màu\n"
   ]
  },
  {
   "cell_type": "code",
   "execution_count": null,
   "id": "1421ebfa",
   "metadata": {},
   "outputs": [],
   "source": [
    "# YOUR CODE HERE"
   ]
  },
  {
   "cell_type": "markdown",
   "id": "10bc2da4",
   "metadata": {},
   "source": [
    "### 7. Tổng giá trị các xe trong cửa hàng\n",
    "\n",
    "Đáp án: 76450 USD\n"
   ]
  },
  {
   "cell_type": "code",
   "execution_count": null,
   "id": "162c94d0",
   "metadata": {},
   "outputs": [],
   "source": [
    "# YOUR CODE HERE"
   ]
  },
  {
   "cell_type": "markdown",
   "id": "4ad99eb7",
   "metadata": {},
   "source": [
    "### 8. Top 3 xe có giá cao nhất\n"
   ]
  },
  {
   "cell_type": "code",
   "execution_count": null,
   "id": "5a142eeb",
   "metadata": {},
   "outputs": [],
   "source": [
    "# YOUR CODE HERE"
   ]
  },
  {
   "cell_type": "markdown",
   "id": "0c0f05c5",
   "metadata": {},
   "source": [
    "### 9. Khảo sát xe của hãng Honda\n",
    "\n",
    "- Tính tỷ lệ xe Honda trong dữ liệu của cửa hàng (0.3)\n",
    "- Cho biết giá trung bình của xe hãng Honda của cửa hàng (6500)\n",
    "- Cho biết các xe của hãng Honda trong cửa hàng có những màu sắc nào (Red, Blue)"
   ]
  },
  {
   "cell_type": "code",
   "execution_count": null,
   "id": "d70fddc5",
   "metadata": {},
   "outputs": [],
   "source": [
    "# YOUR CODE HERE"
   ]
  },
  {
   "cell_type": "markdown",
   "id": "983ae0a2",
   "metadata": {},
   "source": [
    "### 10. Tính toán các giá trị sau của  thuộc tính giá ('Price')\n",
    "\n",
    "- Giá trung bình các xe (7645)\n",
    "- Giá trị trung vị các xe (6625)\n",
    "- Miền giá trị của xe (18500)\n",
    "- Miền phân vị của xe (2750)\n",
    "- Điểm phân vị 0.4 và 0.6 của giá ([5750, 7000])"
   ]
  },
  {
   "cell_type": "code",
   "execution_count": null,
   "id": "1144d45b",
   "metadata": {},
   "outputs": [],
   "source": [
    "# YOUR CODE HERE"
   ]
  },
  {
   "cell_type": "markdown",
   "id": "6c1227ad",
   "metadata": {},
   "source": [
    "11. Vẽ đồ thị histogram của tổng hoá đơn\n"
   ]
  },
  {
   "cell_type": "code",
   "execution_count": null,
   "id": "b8f0bf0f",
   "metadata": {},
   "outputs": [],
   "source": [
    "# YOUR CODE HERE"
   ]
  },
  {
   "cell_type": "markdown",
   "id": "cfc83b45",
   "metadata": {},
   "source": [
    "12. Vẽ đồ thị boxplot của tổng hoá đơn"
   ]
  },
  {
   "cell_type": "code",
   "execution_count": null,
   "id": "da9a18bf",
   "metadata": {},
   "outputs": [],
   "source": [
    "# YOUR CODE HERE"
   ]
  },
  {
   "cell_type": "markdown",
   "id": "079c5c79",
   "metadata": {},
   "source": [
    "13. Vẽ đồ thị thể hiện tổng tiền tip theo ngày\n"
   ]
  },
  {
   "cell_type": "code",
   "execution_count": null,
   "id": "f31b7aac",
   "metadata": {},
   "outputs": [],
   "source": [
    "# YOUR CODE HERE"
   ]
  },
  {
   "cell_type": "markdown",
   "id": "deaafc9a",
   "metadata": {},
   "source": [
    "14. Vẽ đồ thị để kiểm tra sự liên quan giữa tổng hoá đơn và tiền tip."
   ]
  },
  {
   "cell_type": "code",
   "execution_count": null,
   "id": "a2fcac5b",
   "metadata": {},
   "outputs": [],
   "source": [
    "# YOUR CODE HERE"
   ]
  },
  {
   "cell_type": "markdown",
   "id": "acd5d5fc",
   "metadata": {},
   "source": [
    "15. So sánh số tiền mà khách hàng đã chi giữa các ngày trong tuần."
   ]
  },
  {
   "cell_type": "code",
   "execution_count": null,
   "id": "7ea272b8",
   "metadata": {},
   "outputs": [],
   "source": [
    "# YOUR CODE HERE"
   ]
  },
  {
   "cell_type": "markdown",
   "id": "c6740d5a",
   "metadata": {},
   "source": [
    "---\n",
    "\n",
    "## TÓM TẮT\n",
    "\n",
    "Trong nội dung tài liệu này, chúng ta đã làm quen với:\n",
    "- Cách sử dụng Pandas để đọc, xử lý và tóm tắt dữ liệu\n",
    "- Cách sử dụng Seaborn để trực quan hóa dữ liệu\n",
    "- Các hàm thống kê cơ bản trong Pandas\n",
    "\n"
   ]
  },
  {
   "cell_type": "markdown",
   "id": "56cbaa67",
   "metadata": {},
   "source": [
    "---\n",
    "## THAM KHẢO\n",
    "\n",
    "Tài liệu sẽ hướng dẫn các chủ đề cần thiết để phục vụ môn học, nếu có nhu cầu tìm hiểu và học thêm các bạn có thể tham khảo từ các nguồn sau:\n",
    "\n",
    "- [Pandas Documentation](https://pandas.pydata.org/docs/index.html)\n",
    "- [W3School Pandas](https://www.w3schools.com/python/pandas/default.asp)\n",
    "- [Seaborn Docementation](https://seaborn.pydata.org/)  (beautiful documentation)"
   ]
  },
  {
   "cell_type": "markdown",
   "id": "98d174a7",
   "metadata": {},
   "source": [
    "---\n",
    "\n",
    "## CHANGELOG\n",
    "\n",
    "- 20250831 : add new version (pandas, seaborn)\n",
    "\n"
   ]
  },
  {
   "cell_type": "markdown",
   "id": "867ff1f0",
   "metadata": {},
   "source": [
    "---"
   ]
  }
 ],
 "metadata": {
  "kernelspec": {
   "display_name": "envTKUD",
   "language": "python",
   "name": "python3"
  },
  "language_info": {
   "codemirror_mode": {
    "name": "ipython",
    "version": 3
   },
   "file_extension": ".py",
   "mimetype": "text/x-python",
   "name": "python",
   "nbconvert_exporter": "python",
   "pygments_lexer": "ipython3",
   "version": "3.12.5"
  }
 },
 "nbformat": 4,
 "nbformat_minor": 5
}
