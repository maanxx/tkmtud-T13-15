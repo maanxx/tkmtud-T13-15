{
 "cells": [
  {
   "cell_type": "markdown",
   "metadata": {},
   "source": [
    "# Lab 07 - Bài tập"
   ]
  },
  {
   "cell_type": "markdown",
   "metadata": {},
   "source": [
    "## Luyện tập"
   ]
  },
  {
   "cell_type": "markdown",
   "metadata": {},
   "source": [
    "### Bài 1\n",
    "\n",
    "Trong thập niên 80, trọng lượng trung bình của thanh niên là 48 kg. Nay để xác định lại trọng lượng ấy, người ta chọn ngẫu nhiên 100 thanh niên đo trọng lượng trung bình là 50 kg và phương sai mẫu $s^2 = (10 kg)^2$. Thử xem trọng lượng thanh niên hiện nay phải chăng có thay đổi, với mức ý nghĩa là 1%?\n",
    "\n",
    "   _Đáp án. Trọng lượng thanh niên hiện nay không thay đổi so với trước kia._"
   ]
  },
  {
   "cell_type": "code",
   "execution_count": 1,
   "metadata": {},
   "outputs": [
    {
     "name": "stdout",
     "output_type": "stream",
     "text": [
      "Giá trị z thực tế: 2.000\n",
      "Giá trị z tới hạn (α/2 = 0.005): ±2.576\n",
      "→ Không bác bỏ H0: Trọng lượng trung bình hiện nay không thay đổi so với trước kia.\n"
     ]
    }
   ],
   "source": [
    "from scipy import stats\n",
    "import math\n",
    "\n",
    "u0 = 48     \n",
    "xbar = 50     \n",
    "s = 10        \n",
    "n = 100      \n",
    "alpha = 0.01  \n",
    "\n",
    "# khong phi tinh student\n",
    "z = (xbar - u0) / (s / math.sqrt(n))\n",
    "\n",
    "# mien bac bo 2 phia\n",
    "z_critical = stats.norm.ppf(1 - alpha/2)\n",
    "\n",
    "print(f\"Giá trị z thực tế: {z:.3f}\")\n",
    "print(f\"Giá trị z tới hạn (α/2 = {alpha/2}): ±{z_critical:.3f}\")\n",
    "\n",
    "if abs(z) > z_critical:\n",
    "    print(\"→ Bác bỏ H0: Trọng lượng trung bình hiện nay đã thay đổi so với trước kia.\")\n",
    "else:\n",
    "    print(\"→ Không bác bỏ H0: Trọng lượng trung bình hiện nay không thay đổi so với trước kia.\")\n"
   ]
  },
  {
   "cell_type": "markdown",
   "metadata": {},
   "source": [
    "### Bài 2\n",
    "\n",
    "Một cửa hàng thực phẩm nhận thấy thời gian vừa qua trung bình một khách hàng mua 25 ngàn đồng thực phẩm trong ngày. Nay cửa hàng chọn ngẫu nhiên 15 khách hàng thấy trung bình một khách hàng mua 24 ngàn đồng trong ngày và phương sai mẫu là $s^2$ =  (2 ngàn đồng $)^2$\n",
    "\n",
    "   Với mức ý nghĩa là 5%, kiểm định xem có phải sức mua của khách hàng hiện nay thực sự giảm sút hay không. Biết rằng sức mua của khách hàng có phân phối chuẩn.\n",
    "\n",
    "   _Đáp án. Sức mua của khách hàng hiện nay thực sự giảm sút_"
   ]
  },
  {
   "cell_type": "code",
   "execution_count": 2,
   "metadata": {},
   "outputs": [
    {
     "name": "stdout",
     "output_type": "stream",
     "text": [
      "Giá trị t thực tế: -1.936\n",
      "Giá trị t tới hạn (α = 0.05): -1.761\n",
      "→ Bác bỏ H0: Sức mua của khách hàng hiện nay thực sự giảm sút.\n"
     ]
    }
   ],
   "source": [
    "from scipy import stats\n",
    "import math\n",
    "\n",
    "mu0 = 25\n",
    "xbar = 24\n",
    "s = 2\n",
    "n = 15\n",
    "alpha = 0.05\n",
    "\n",
    "t_stat = (xbar - mu0) / (s / math.sqrt(n))\n",
    "df = n - 1\n",
    "t_critical = stats.t.ppf(alpha, df)\n",
    "\n",
    "print(f\"Giá trị t thực tế: {t_stat:.3f}\")\n",
    "print(f\"Giá trị t tới hạn (α = {alpha}): {t_critical:.3f}\")\n",
    "\n",
    "if t_stat < t_critical:\n",
    "    print(\"→ Bác bỏ H0: Sức mua của khách hàng hiện nay thực sự giảm sút.\")\n",
    "else:\n",
    "    print(\"→ Không bác bỏ H0: Chưa có đủ bằng chứng cho thấy sức mua giảm.\")\n"
   ]
  },
  {
   "cell_type": "markdown",
   "metadata": {},
   "source": [
    "### Bài 3\n",
    "\n",
    "Một máy sản suất tự động, lúc đầu tỷ lệ sản phẩm loại A là 20%. Sau khi áp dụng một phương pháp cải tiến sản xuất mới, người ta lấy 40 mẫu, mỗi mẫu gồm 10 sản phẩm đề kiểm tra. Kết quả kiểm tra cho ở bảng sau:\n",
    "\n",
    "| **Số sản phẩm loại A** |  1   |  2   |  3   |  4   |  5   |  6   |  7   |  8   |  9   |  10  |\n",
    "| ---------------------- | :--: | :--: | :--: | :--: | :--: | :--: | :--: | :--: | :--: | :--: |\n",
    "| **Số mẫu**             |  2   |  0   |  4   |  6   |  8   |  10  |  4   |  5   |  1   |  0   |\n",
    "\n",
    " Với mức ý nghĩa 5%. Hãy cho kết luận về phương pháp sản suất này. \n",
    "\n",
    " _Đáp án.Phương pháp cải tiến sản xuất mới thay đổi tỉ lệ sản phẩm loại A_"
   ]
  },
  {
   "cell_type": "code",
   "execution_count": 3,
   "metadata": {},
   "outputs": [
    {
     "name": "stdout",
     "output_type": "stream",
     "text": [
      "Tỷ lệ mẫu quan sát: 0.5375\n",
      "Giá trị z thực tế: 16.875\n",
      "Giá trị z tới hạn (α/2 = 0.025): ±1.960\n",
      "→ Bác bỏ H0: Phương pháp sản xuất mới làm thay đổi tỷ lệ sản phẩm loại A.\n"
     ]
    }
   ],
   "source": [
    "from math import sqrt\n",
    "from scipy.stats import norm\n",
    "\n",
    "p0 = 0.2\n",
    "n = 400\n",
    "x = (1*2) + (2*0) + (3*4) + (4*6) + (5*8) + (6*10) + (7*4) + (8*5) + (9*1) + (10*0)\n",
    "p_hat = x / n\n",
    "alpha = 0.05\n",
    "\n",
    "z = (p_hat - p0) / sqrt(p0 * (1 - p0) / n)\n",
    "z_critical = norm.ppf(1 - alpha/2)\n",
    "\n",
    "print(f\"Tỷ lệ mẫu quan sát: {p_hat:.4f}\")\n",
    "print(f\"Giá trị z thực tế: {z:.3f}\")\n",
    "print(f\"Giá trị z tới hạn (α/2 = {alpha/2}): ±{z_critical:.3f}\")\n",
    "\n",
    "if abs(z) > z_critical:\n",
    "    print(\"→ Bác bỏ H0: Phương pháp sản xuất mới làm thay đổi tỷ lệ sản phẩm loại A.\")\n",
    "else:\n",
    "    print(\"→ Không bác bỏ H0: Chưa có bằng chứng phương pháp mới làm thay đổi tỷ lệ loại A.\")\n"
   ]
  },
  {
   "cell_type": "markdown",
   "metadata": {},
   "source": [
    "### Bài 4\n",
    "\n",
    "Tỷ lệ phế phẩm của một nhà máy trước đây là 5%. Năm nay nhà máy áp dụng một biện pháp kỹ thuật mới. Để nghiên cứu tác dụng của biện pháp kỹ thuật mới, người ta lấy một mẫu gồm 800 sản phẩm để kiểm tra và thấy có 24 phế phẩm.\n",
    "\n",
    "a. Với α = 0.01. Hãy cho kết luận về biện pháp kỹ thuật mới này?\n",
    "\n",
    "b. Nếu nhà máy báo cáo tỷ lệ phế phẩm sau khi áp dụng biện pháp kỹ thuật mới là\n",
    "2% thì có chấp nhận được không? (α = 0.01).\n",
    "\n",
    "_Đáp án. (a) Biện pháp kĩ thuật mới làm thay đổi tỉ lệ phế phẩm (b) Nhà máy báo cáo tỷ lệ phế phẩm là chấp nhận được._"
   ]
  },
  {
   "cell_type": "code",
   "execution_count": 4,
   "metadata": {},
   "outputs": [
    {
     "name": "stdout",
     "output_type": "stream",
     "text": [
      "Cau a\n",
      "Tỷ lệ mẫu quan sát: 0.0300\n",
      "Giá trị z thực tế: -2.596\n",
      "Giá trị z tới hạn ±2.576\n",
      "→ Bác bỏ H0: Biện pháp kỹ thuật mới làm thay đổi tỷ lệ phế phẩm.\n",
      "Cau b\n",
      "Giá trị z thực tế: 2.020\n",
      "Giá trị z tới hạn ±2.576\n",
      "→ Không bác bỏ H0: Báo cáo 2% là chấp nhận được.\n"
     ]
    }
   ],
   "source": [
    "from math import sqrt\n",
    "from scipy.stats import norm\n",
    "\n",
    "n = 800\n",
    "x = 24\n",
    "p_hat = x / n\n",
    "alpha = 0.01\n",
    "\n",
    "p0_a = 0.05\n",
    "z_a = (p_hat - p0_a) / sqrt(p0_a * (1 - p0_a) / n)\n",
    "z_critical = norm.ppf(1 - alpha/2)\n",
    "\n",
    "print(\"Cau a\")\n",
    "print(f\"Tỷ lệ mẫu quan sát: {p_hat:.4f}\")\n",
    "print(f\"Giá trị z thực tế: {z_a:.3f}\")\n",
    "print(f\"Giá trị z tới hạn ±{z_critical:.3f}\")\n",
    "if abs(z_a) > z_critical:\n",
    "    print(\"→ Bác bỏ H0: Biện pháp kỹ thuật mới làm thay đổi tỷ lệ phế phẩm.\")\n",
    "else:\n",
    "    print(\"→ Không bác bỏ H0: Chưa có bằng chứng tỷ lệ phế phẩm thay đổi.\")\n",
    "\n",
    "p0_b = 0.02\n",
    "z_b = (p_hat - p0_b) / sqrt(p0_b * (1 - p0_b) / n)\n",
    "\n",
    "print(\"Cau b\");\n",
    "print(f\"Giá trị z thực tế: {z_b:.3f}\")\n",
    "print(f\"Giá trị z tới hạn ±{z_critical:.3f}\")\n",
    "if abs(z_b) > z_critical:\n",
    "    print(\"→ Bác bỏ H0: Báo cáo 2% không chấp nhận được.\")\n",
    "else:\n",
    "    print(\"→ Không bác bỏ H0: Báo cáo 2% là chấp nhận được.\")\n"
   ]
  },
  {
   "cell_type": "markdown",
   "metadata": {},
   "source": [
    "## Kiểm định đặc trưng tỉ lệ (p)"
   ]
  },
  {
   "cell_type": "markdown",
   "metadata": {},
   "source": [
    "### Bài 5\n",
    "\n",
    "Dataset 18 (__M&M__) chứa thông tin trọng lượng và màu sắc của mẫu các viên kẹo của hãng M&M. \n",
    "\n",
    "Sử dụng mẫu trên bạn hãy kiểm tra phát biểu sau: __\"20% kẹo M&M có màu đỏ\"__ với mức ý nghĩa là 5%\n",
    "\n",
    "*Hướng dẫn: tính tỷ lệ các viên kẹo có màu đỏ từ dữ liệu, sử dụng kết quả để kiểm định phát biểu trên*"
   ]
  },
  {
   "cell_type": "code",
   "execution_count": 12,
   "metadata": {},
   "outputs": [
    {
     "name": "stdout",
     "output_type": "stream",
     "text": [
      "Xem trước dữ liệu:\n",
      "     Red  Orange  Yellow  Brown   Blue  Green\n",
      "0  0.751   0.735   0.883  0.696  0.881  0.925\n",
      "1  0.841   0.895   0.769  0.876  0.863  0.914\n",
      "2  0.856   0.865   0.859  0.855  0.775  0.881\n",
      "3  0.799   0.864   0.784  0.806  0.854  0.865\n",
      "4  0.966   0.852   0.824  0.840  0.810  0.865 \n",
      "\n",
      "Giá trị F: 0.4430\n",
      "P-value: 0.8173\n",
      "→ Không bác bỏ H0: Trọng lượng trung bình của các màu là như nhau.\n"
     ]
    }
   ],
   "source": [
    "import pandas as pd\n",
    "from scipy.stats import f_oneway\n",
    "\n",
    "data = pd.read_excel(\"18_M_M.xls\")  \n",
    "\n",
    "print(\"Xem trước dữ liệu:\")\n",
    "print(data.head(), \"\\n\")\n",
    "\n",
    "data = data.dropna(how=\"all\")\n",
    "\n",
    "f_stat, p_val = f_oneway(\n",
    "    data[\"Red\"].dropna(),\n",
    "    data[\"Orange\"].dropna(),\n",
    "    data[\"Yellow\"].dropna(),\n",
    "    data[\"Brown\"].dropna(),\n",
    "    data[\"Blue\"].dropna(),\n",
    "    data[\"Green\"].dropna()\n",
    ")\n",
    "\n",
    "print(f\"Giá trị F: {f_stat:.4f}\")\n",
    "print(f\"P-value: {p_val:.4f}\")\n",
    "\n",
    "alpha = 0.05\n",
    "if p_val < alpha:\n",
    "    print(\"Bác bỏ H0: Có sự khác biệt về trọng lượng trung bình giữa các màu.\")\n",
    "else:\n",
    "    print(\"Không bác bỏ H0: Trọng lượng trung bình của các màu là như nhau.\")\n"
   ]
  },
  {
   "cell_type": "markdown",
   "metadata": {},
   "source": [
    "### Bài 6\n",
    "\n",
    "Dataset 3 (__FRESH15__) chứa thông tin khảo sát những thay đổi về trọng lượng (weight - WT) và chỉ số khối của cơ thể (BMI) của sinh viên năm nhất tại một trường Đại Học. Thời điểm khảo sát là bắt đầu học kỳ (tháng 9 - SEP) và kết thúc học kỳ (tháng 4 - APR), các sinh viên được chọn ngẫu nhiên trong trường.\n",
    "\n",
    "Sử dụng mẫu trên, hãy kiểm tra phát biểu:__\"50% số sinh viên trong trường là nam\"__ với mức ý nghĩa 50%\n",
    "\n",
    "Các thuộc tính trong bộ dữ liệu:\n",
    "- SEX: Giới tính\n",
    "- WTSEP: trọng lượng đo vào tháng 9 (mới nhập học)\n",
    "- WTAPR: trọng lượng đo vào tháng 4 (kết thúc năm học)\n",
    "- BMISP: BMI tháng 9\n",
    "- BMIAP: BMI tháng 4"
   ]
  },
  {
   "cell_type": "code",
   "execution_count": 14,
   "metadata": {},
   "outputs": [
    {
     "name": "stdout",
     "output_type": "stream",
     "text": [
      "Số mẫu: 67\n",
      "Tỷ lệ mẫu: 0.478\n",
      "z = -0.367\n",
      "p-value = 0.7140\n",
      "Không bác bỏ H0: Tỷ lệ nam ≈ 50%\n"
     ]
    }
   ],
   "source": [
    "import pandas as pd\n",
    "from scipy.stats import norm\n",
    "\n",
    "data = pd.read_excel('03_FRESH15.xls')  \n",
    "\n",
    "n = len(data)\n",
    "x = (data[\"SEX\"] == \"M\").sum()\n",
    "p_hat = x / n\n",
    "p0 = 0.5\n",
    "\n",
    "z = (p_hat - p0) / ((p0*(1-p0)/n)**0.5)\n",
    "p_value = 2 * (1 - norm.cdf(abs(z))) \n",
    "\n",
    "print(f\"Số mẫu: {n}\")\n",
    "print(f\"Tỷ lệ mẫu: {p_hat:.3f}\")\n",
    "print(f\"z = {z:.3f}\")\n",
    "print(f\"p-value = {p_value:.4f}\")\n",
    "\n",
    "if p_value < 0.05:\n",
    "    print(\"Bác bỏ H0: Tỷ lệ nam KHÁC 50%\")\n",
    "else:\n",
    "    print(\"Không bác bỏ H0: Tỷ lệ nam ≈ 50%\")\n"
   ]
  },
  {
   "cell_type": "markdown",
   "metadata": {},
   "source": [
    "## Kiểm định đặc trưng kỳ vọng ($\\mu$) biết ($\\sigma$)"
   ]
  },
  {
   "cell_type": "markdown",
   "metadata": {},
   "source": [
    "### Bài 7\n",
    "\n",
    "Dataset 13 __(VOLTAGE)__ liệt kê các mức điện áp được đo tại các hộ gia đình bởi các máy đo khác nhau: tại nhà (HOME), tại máy phát độc lập (Generator), tại trạm phát (UPS).\n",
    "\n",
    "Công ty cung cấp điện cho vùng này cam kết rằng: __\"Mục tiêu cung cấp điện cho mỗi hộ gia đình là 120V\"__ . Biết rằng độ lệch chuẩn của tất cả các mức điện áp đo được là 0.24V.\n",
    "\n",
    "Với mức ý nghĩa 1%. Bạn hãy kiểm tra xem công ty có làm đúng cam kết hay không?"
   ]
  },
  {
   "cell_type": "code",
   "execution_count": 15,
   "metadata": {},
   "outputs": [
    {
     "name": "stdout",
     "output_type": "stream",
     "text": [
      "Số quan sát: 40\n",
      "Trung bình mẫu: 123.662\n",
      "Z thực tế: 96.515\n",
      "P-value: 0.000000\n",
      "Bác bỏ H0: Công ty KHÔNG đạt cam kết 120V.\n"
     ]
    }
   ],
   "source": [
    "import pandas as pd\n",
    "import numpy as np\n",
    "from scipy.stats import norm\n",
    "from math import sqrt\n",
    "\n",
    "data = pd.read_excel(\"13_VOLTAGE.xls\")\n",
    "\n",
    "data['Home'] = data['Home'].astype(str).str.replace(',', '.').astype(float)\n",
    "\n",
    "mu0 = 120         \n",
    "sigma = 0.24      \n",
    "alpha = 0.01      \n",
    "\n",
    "home = data['Home']\n",
    "n = len(home)\n",
    "xbar = home.mean()\n",
    "\n",
    "z = (xbar - mu0) / (sigma / sqrt(n))\n",
    "p_value = 2 * (1 - norm.cdf(abs(z)))  \n",
    "\n",
    "print(f\"Số quan sát: {n}\")\n",
    "print(f\"Trung bình mẫu: {xbar:.3f}\")\n",
    "print(f\"Z thực tế: {z:.3f}\")\n",
    "print(f\"P-value: {p_value:.6f}\")\n",
    "\n",
    "if p_value < alpha:\n",
    "    print(\"Bác bỏ H0: Công ty KHÔNG đạt cam kết 120V.\")\n",
    "else:\n",
    "    print(\"Không bác bỏ H0: Công ty đạt cam kết 120V.\")\n"
   ]
  },
  {
   "cell_type": "markdown",
   "metadata": {},
   "source": [
    "## Kiểm định đặc trưng kỳ vọng ($\\mu$) không biết ($\\sigma$)"
   ]
  },
  {
   "cell_type": "markdown",
   "metadata": {},
   "source": [
    "### Bài 8\n",
    "\n",
    "Dataset 19(__SCREWS__) chứa thông tin khảo sát chiều dài một số đinh ốc được cung cấp bởi công ty Crown Bolt (đơn vị inches)\n",
    "\n",
    "Trên bao bì của các đinh ốc do công ty sản xuất có ghi chiều dài của các đinh ốc là 3/4 inches. Sử dụng mẫu trên bạn hãy cho biết chiều dài của đinh ốc lấy từ mẫu thu nhận được từ dữ liệu trên có nhất quán với chiều dài ghi trên bao bì hay không? Kiểm định với mức ý nghĩa 5%"
   ]
  },
  {
   "cell_type": "code",
   "execution_count": 18,
   "metadata": {},
   "outputs": [
    {
     "name": "stdout",
     "output_type": "stream",
     "text": [
      "=== KIỂM ĐỊNH GIẢ THUYẾT VỀ CHIỀU DÀI ĐINH ỐC ===\n",
      "Số lượng mẫu (n): 49\n",
      "Chiều dài trung bình mẫu: 0.7466 inches\n",
      "T-Score: -1.9185\n",
      "P-Value: 0.0610\n",
      "Không bác bỏ giả thuyết H0:\n",
      "Không có đủ bằng chứng để kết luận chiều dài trung bình của đinh ốc khác 0.75 inches (phù hợp với bao bì).\n"
     ]
    }
   ],
   "source": [
    "import pandas as pd\n",
    "import numpy as np\n",
    "from scipy import stats\n",
    "\n",
    "data19 = pd.read_excel('19_SCREWS.xls')\n",
    "alpha = 0.05          \n",
    "mu0 = 3/4          \n",
    "\n",
    "chieu_dai_tb = data19.iloc[:, 0].mean()      \n",
    "do_lech_chuan = data19.iloc[:, 0].std(ddof=1) \n",
    "n = len(data19)                               \n",
    "\n",
    "t_thong_ke = (chieu_dai_tb - mu0) / (do_lech_chuan / np.sqrt(n))\n",
    "p_value = 2 * (1 - stats.t.cdf(abs(t_thong_ke), df=n-1))\n",
    "\n",
    "print(\"=== KIỂM ĐỊNH GIẢ THUYẾT VỀ CHIỀU DÀI ĐINH ỐC ===\")\n",
    "print(f\"Số lượng mẫu (n): {n}\")\n",
    "print(f\"Chiều dài trung bình mẫu: {chieu_dai_tb:.4f} inches\")\n",
    "print(f\"T-Score: {t_thong_ke:.4f}\")\n",
    "print(f\"P-Value: {p_value:.4f}\")\n",
    "\n",
    "if p_value < alpha:\n",
    "    print(\"Bác bỏ giả thuyết H0:\")\n",
    "    print(\"Chiều dài trung bình của đinh ốc KHÁC 0.75 inches (không nhất quán với bao bì).\")\n",
    "else:\n",
    "    print(\"Không bác bỏ giả thuyết H0:\")\n",
    "    print(\"Không có đủ bằng chứng để kết luận chiều dài trung bình của đinh ốc khác 0.75 inches (phù hợp với bao bì).\")\n"
   ]
  },
  {
   "cell_type": "markdown",
   "metadata": {},
   "source": [
    "### Bài 9\n",
    "\n",
    "Dataset 2 __(BODYTEMP)__ chứa thông tin khảo sát nhiệt độ cơ thể từ một nhóm người vào cùng một thời điểm lúc 12h trưa.\n",
    "\n",
    "Có một phát biểu nói rằng, nhiệt độ cơ thể người đo lúc 12h trưa trong quần thể này là 98,6°\n",
    "\n",
    "Dựa vào mẫu trên, bạn hãy cho biết phát biểu trên đúng hay sai ở mức ý nghĩa là 5%."
   ]
  },
  {
   "cell_type": "code",
   "execution_count": 19,
   "metadata": {},
   "outputs": [
    {
     "name": "stdout",
     "output_type": "stream",
     "text": [
      "Sample Mean Temperature: 98.1962\n",
      "T-Score: -6.6243\n",
      "P-Value: 0.0000\n",
      "Bác bỏ giả thuyết H0: Nhiệt độ trung bình KHÁC 98.6°F.\n"
     ]
    }
   ],
   "source": [
    "import pandas as pd\n",
    "import numpy as np\n",
    "from scipy import stats\n",
    "\n",
    "data = pd.read_excel('02_BODYTEMP.xls')\n",
    "\n",
    "alpha = 0.05\n",
    "\n",
    "mean_sample = data.iloc[:, 0].mean()\n",
    "sample_std = data.iloc[:, 0].std(ddof=1)\n",
    "n = len(data)\n",
    "\n",
    "t_score = (mean_sample - 98.6) / (sample_std / np.sqrt(n))\n",
    "p_value = 2 * (1 - stats.t.cdf(abs(t_score), df=n-1))\n",
    "# In kết quả\n",
    "print(f\"Sample Mean Temperature: {mean_sample:.4f}\")\n",
    "print(f\"T-Score: {t_score:.4f}\")\n",
    "print(f\"P-Value: {p_value:.4f}\")\n",
    "\n",
    "# Kết luận\n",
    "if p_value < alpha:\n",
    "    print(\"Bác bỏ giả thuyết H0: Nhiệt độ trung bình KHÁC 98.6°F.\")\n",
    "else:\n",
    "    print(\"Không bác bỏ giả thuyết H0: Không có đủ bằng chứng để nói nhiệt độ trung bình khác 98.6°F.\")\n"
   ]
  },
  {
   "cell_type": "markdown",
   "metadata": {},
   "source": [
    "### Bài 10\n",
    "\n",
    "Tìm hiểu z_test, t_test trong python"
   ]
  },
  {
   "cell_type": "markdown",
   "metadata": {},
   "source": [
    "khi không s => thì tìm z_test => tính độ lệch chuẩn rồi tra bảng z table\n",
    "có s => tính t_test => tính độ lệch chuẩn rồi tra bảng student\n",
    "\n",
    "sau đó, kết luận coi có bác bỏ hay không?\n",
    "Các công thức để tính z_test và t_test:\n",
    "1. Kiểm định z (z-test)\n",
    "Kiểm định z được sử dụng để kiểm tra giả thuyết về trung bình của một quần thể khi biết độ lệch chuẩn của quần thể.\n",
    "Công thức tính giá trị z:\n",
    "\n",
    "z = (x̄ - μ) / (σ / √n)\n",
    "\n",
    "Trong đó:\n",
    "\n",
    "x̄: Trung bình mẫu\n",
    "\n",
    "μ: Trung bình quần thể (giá trị giả thuyết)\n",
    "\n",
    "σ: Độ lệch chuẩn của quần thể\n",
    "\n",
    "n: Kích thước mẫu\n",
    "\n",
    "2. Kiểm định t (t-test)\n",
    "Kiểm định t được sử dụng khi không biết độ lệch chuẩn của quần thể, nhằm kiểm tra giả thuyết về trung bình của một quần thể.\n",
    "Công thức tính giá trị t:\n",
    "\n",
    "t = (x̄ - μ) / (s / √n)\n",
    "\n",
    "Trong đó:\n",
    "\n",
    "x̄: Trung bình mẫu\n",
    "\n",
    "μ: Trung bình quần thể (giá trị giả thuyết)\n",
    "\n",
    "s: Độ lệch chuẩn mẫu\n",
    "\n",
    "n: Kích thước mẫu\n",
    "\n",
    "3. Các hàm kiểm định t trong Python (thư viện scipy.stats)\n",
    "\n",
    "stats.ttest_ind(): Kiểm định t cho hai mẫu độc lập.\n",
    "\n",
    "stats.ttest_rel(): Kiểm định t cho hai mẫu phụ thuộc (paired samples).\n",
    "\n",
    "4. Kết luận\n",
    "Kiểm định z và t là hai công cụ thống kê quan trọng giúp kiểm tra giả thuyết về trung bình của quần thể.\n",
    "Việc lựa chọn loại kiểm định phù hợp phụ thuộc vào việc có biết độ lệch chuẩn của quần thể hay không.\n",
    "Thư viện scipy.stats trong Python cung cấp các hàm hỗ trợ sẵn, giúp việc thực hiện các phép kiểm định này trở nên nhanh chóng và chính xác.\n"
   ]
  },
  {
   "cell_type": "markdown",
   "metadata": {},
   "source": [
    "---"
   ]
  }
 ],
 "metadata": {
  "kernelspec": {
   "display_name": "base",
   "language": "python",
   "name": "python3"
  },
  "language_info": {
   "codemirror_mode": {
    "name": "ipython",
    "version": 3
   },
   "file_extension": ".py",
   "mimetype": "text/x-python",
   "name": "python",
   "nbconvert_exporter": "python",
   "pygments_lexer": "ipython3",
   "version": "3.13.5"
  }
 },
 "nbformat": 4,
 "nbformat_minor": 2
}
